{
 "cells": [
  {
   "cell_type": "code",
   "execution_count": 1,
   "id": "30f676e4",
   "metadata": {
    "_cell_guid": "b1076dfc-b9ad-4769-8c92-a6c4dae69d19",
    "_uuid": "8f2839f25d086af736a60e9eeb907d3b93b6e0e5",
    "execution": {
     "iopub.execute_input": "2023-01-26T17:29:04.780077Z",
     "iopub.status.busy": "2023-01-26T17:29:04.779539Z",
     "iopub.status.idle": "2023-01-26T17:29:05.967685Z",
     "shell.execute_reply": "2023-01-26T17:29:05.965820Z"
    },
    "papermill": {
     "duration": 1.207069,
     "end_time": "2023-01-26T17:29:05.970421",
     "exception": false,
     "start_time": "2023-01-26T17:29:04.763352",
     "status": "completed"
    },
    "tags": []
   },
   "outputs": [],
   "source": [
    "# This Python 3 environment comes with many helpful analytics libraries installed\n",
    "# It is defined by the kaggle/python Docker image: https://github.com/kaggle/docker-python\n",
    "# For example, here's several helpful packages to load\n",
    "# Input data files are available in the read-only \"../input/\" directory\n",
    "# For example, running this (by clicking run or pressing Shift+Enter) will list all files under the input directory\n",
    "\n",
    "#for dirname, _, filenames in os.walk('/kaggle/input'):\n",
    "#    for filename in filenames:\n",
    "#        print(os.path.join(dirname, filename))\n",
    "\n",
    "# You can write up to 20GB to the current directory (/kaggle/working/) that gets preserved as output when you create a version using \"Save & Run All\" \n",
    "# You can also write temporary files to /kaggle/temp/, but they won't be saved outside of the current session\n",
    "\n",
    "import numpy as np # linear algebra\n",
    "import pandas as pd # data processing, CSV file I/O (e.g. pd.read_csv)\n",
    "import os\n",
    "import json\n",
    "\n",
    "from pandas.plotting import scatter_matrix\n",
    "%matplotlib inline\n",
    "import matplotlib.pyplot as plt\n",
    "\n",
    "from sklearn.model_selection import StratifiedShuffleSplit\n",
    "from sklearn.compose import ColumnTransformer\n",
    "from sklearn.preprocessing import OneHotEncoder\n",
    "from sklearn.preprocessing import PolynomialFeatures\n",
    "from sklearn.pipeline import Pipeline\n",
    "\n",
    "from sklearn.metrics import mean_squared_error"
   ]
  },
  {
   "cell_type": "markdown",
   "id": "0944c2e0",
   "metadata": {
    "papermill": {
     "duration": 0.013282,
     "end_time": "2023-01-26T17:29:05.998306",
     "exception": false,
     "start_time": "2023-01-26T17:29:05.985024",
     "status": "completed"
    },
    "tags": []
   },
   "source": [
    "# What are the bpps files \n",
    "## These are base pairing probability matrix of every possible base pair. 107 X 107 symmetric matrices, where 107 is the number of bases in a RNA sequence"
   ]
  },
  {
   "cell_type": "markdown",
   "id": "c6721a3a",
   "metadata": {
    "papermill": {
     "duration": 0.013183,
     "end_time": "2023-01-26T17:29:06.025251",
     "exception": false,
     "start_time": "2023-01-26T17:29:06.012068",
     "status": "completed"
    },
    "tags": []
   },
   "source": [
    "### Ingesting the test dataset which is in json format, then bringing it in pandas dataframe"
   ]
  },
  {
   "cell_type": "code",
   "execution_count": 2,
   "id": "92759745",
   "metadata": {
    "execution": {
     "iopub.execute_input": "2023-01-26T17:29:06.054950Z",
     "iopub.status.busy": "2023-01-26T17:29:06.054388Z",
     "iopub.status.idle": "2023-01-26T17:29:06.111594Z",
     "shell.execute_reply": "2023-01-26T17:29:06.110940Z"
    },
    "papermill": {
     "duration": 0.07524,
     "end_time": "2023-01-26T17:29:06.114308",
     "exception": false,
     "start_time": "2023-01-26T17:29:06.039068",
     "status": "completed"
    },
    "tags": []
   },
   "outputs": [
    {
     "name": "stdout",
     "output_type": "stream",
     "text": [
      "(3634, 7)\n"
     ]
    }
   ],
   "source": [
    "pd.set_option('display.max_colwidth', None)\n",
    "json_data = [json.loads(line) for line in open('/kaggle/input/stanford-covid-vaccine/test.json', 'r')]\n",
    "test_df = pd.DataFrame(json_data)\n",
    "print(test_df.shape)"
   ]
  },
  {
   "cell_type": "markdown",
   "id": "73629cf0",
   "metadata": {
    "papermill": {
     "duration": 0.012455,
     "end_time": "2023-01-26T17:29:06.141266",
     "exception": false,
     "start_time": "2023-01-26T17:29:06.128811",
     "status": "completed"
    },
    "tags": []
   },
   "source": [
    "### Ingesting the training dataset which is in json format, then bringing it in pandas dataframe"
   ]
  },
  {
   "cell_type": "code",
   "execution_count": 3,
   "id": "3e1399b4",
   "metadata": {
    "execution": {
     "iopub.execute_input": "2023-01-26T17:29:06.169020Z",
     "iopub.status.busy": "2023-01-26T17:29:06.168625Z",
     "iopub.status.idle": "2023-01-26T17:29:06.593932Z",
     "shell.execute_reply": "2023-01-26T17:29:06.591968Z"
    },
    "papermill": {
     "duration": 0.443254,
     "end_time": "2023-01-26T17:29:06.597389",
     "exception": false,
     "start_time": "2023-01-26T17:29:06.154135",
     "status": "completed"
    },
    "tags": []
   },
   "outputs": [
    {
     "name": "stdout",
     "output_type": "stream",
     "text": [
      "(2400, 19)\n"
     ]
    }
   ],
   "source": [
    "pd.set_option('display.max_colwidth', None)\n",
    "json_data = [json.loads(line) for line in open('/kaggle/input/stanford-covid-vaccine/train.json', 'r')]\n",
    "train_df = pd.DataFrame(json_data)\n",
    "print(train_df.shape)"
   ]
  },
  {
   "cell_type": "markdown",
   "id": "3e65e44f",
   "metadata": {
    "papermill": {
     "duration": 0.013818,
     "end_time": "2023-01-26T17:29:06.624864",
     "exception": false,
     "start_time": "2023-01-26T17:29:06.611046",
     "status": "completed"
    },
    "tags": []
   },
   "source": [
    "# Bringing the bpps data of every sample"
   ]
  },
  {
   "cell_type": "markdown",
   "id": "13adc998",
   "metadata": {
    "papermill": {
     "duration": 0.013168,
     "end_time": "2023-01-26T17:29:06.651618",
     "exception": false,
     "start_time": "2023-01-26T17:29:06.638450",
     "status": "completed"
    },
    "tags": []
   },
   "source": [
    "## Vectorized method, without creating another dataframe, thereby saving memory"
   ]
  },
  {
   "cell_type": "code",
   "execution_count": 4,
   "id": "3ab53507",
   "metadata": {
    "execution": {
     "iopub.execute_input": "2023-01-26T17:29:06.680969Z",
     "iopub.status.busy": "2023-01-26T17:29:06.680438Z",
     "iopub.status.idle": "2023-01-26T17:30:03.864868Z",
     "shell.execute_reply": "2023-01-26T17:30:03.863490Z"
    },
    "papermill": {
     "duration": 57.215408,
     "end_time": "2023-01-26T17:30:03.880958",
     "exception": false,
     "start_time": "2023-01-26T17:29:06.665550",
     "status": "completed"
    },
    "tags": []
   },
   "outputs": [
    {
     "name": "stdout",
     "output_type": "stream",
     "text": [
      "(2400, 20)\n",
      "(3634, 8)\n"
     ]
    }
   ],
   "source": [
    "def get_bpps(row):\n",
    "    file_location = \"\".join(['/kaggle/input/stanford-covid-vaccine/bpps/',row['id'],'.npy'])\n",
    "    bpps_data = np.load(file_location)\n",
    "    bpps_data_list = list(bpps_data)\n",
    "    bpps_data_list_68 = bpps_data_list[0:68]\n",
    "    bpps_data_list_68_68 = []\n",
    "    for j in range(len(bpps_data_list_68)):\n",
    "        bpps_data_list_68_68.append(bpps_data_list_68[j][0:68])\n",
    "        \n",
    "    row['bpps'] = bpps_data_list_68_68\n",
    "    return row['bpps']\n",
    "\n",
    "train_df['bpps'] = train_df.apply(get_bpps, axis=1)\n",
    "test_df['bpps'] = test_df.apply(get_bpps, axis=1)\n",
    "## Verifications\n",
    "print(train_df.shape)\n",
    "print(test_df.shape)"
   ]
  },
  {
   "cell_type": "markdown",
   "id": "681439be",
   "metadata": {
    "papermill": {
     "duration": 0.014379,
     "end_time": "2023-01-26T17:30:03.910340",
     "exception": false,
     "start_time": "2023-01-26T17:30:03.895961",
     "status": "completed"
    },
    "tags": []
   },
   "source": [
    "## Dropping unnecessary columns "
   ]
  },
  {
   "cell_type": "code",
   "execution_count": 5,
   "id": "59791fb6",
   "metadata": {
    "execution": {
     "iopub.execute_input": "2023-01-26T17:30:03.939781Z",
     "iopub.status.busy": "2023-01-26T17:30:03.939422Z",
     "iopub.status.idle": "2023-01-26T17:30:03.956391Z",
     "shell.execute_reply": "2023-01-26T17:30:03.954716Z"
    },
    "papermill": {
     "duration": 0.034537,
     "end_time": "2023-01-26T17:30:03.959276",
     "exception": false,
     "start_time": "2023-01-26T17:30:03.924739",
     "status": "completed"
    },
    "tags": []
   },
   "outputs": [],
   "source": [
    "training_columns_to_drop = ['signal_to_noise', 'SN_filter', 'reactivity_error', 'deg_error_Mg_pH10', 'deg_error_pH10', 'deg_error_Mg_50C', 'deg_error_50C']\n",
    "train_df.drop(training_columns_to_drop, axis=1, inplace=True)\n",
    "\n",
    "test_columns_to_drop = ['seq_length', 'seq_scored']\n",
    "test_df.drop(test_columns_to_drop, axis=1, inplace=True)"
   ]
  },
  {
   "cell_type": "markdown",
   "id": "4d9157f6",
   "metadata": {
    "papermill": {
     "duration": 0.014395,
     "end_time": "2023-01-26T17:30:03.987689",
     "exception": false,
     "start_time": "2023-01-26T17:30:03.973294",
     "status": "completed"
    },
    "tags": []
   },
   "source": [
    "## Breaking down each ID into 68 IDs, one for each RNA base (68 out of the 107 are under modelling scope)\n",
    "### List based approach, takes way much shorter time than the brute force method"
   ]
  },
  {
   "cell_type": "code",
   "execution_count": 6,
   "id": "a605ccae",
   "metadata": {
    "execution": {
     "iopub.execute_input": "2023-01-26T17:30:04.019574Z",
     "iopub.status.busy": "2023-01-26T17:30:04.019209Z",
     "iopub.status.idle": "2023-01-26T17:30:18.337899Z",
     "shell.execute_reply": "2023-01-26T17:30:18.336006Z"
    },
    "papermill": {
     "duration": 14.338255,
     "end_time": "2023-01-26T17:30:18.340951",
     "exception": false,
     "start_time": "2023-01-26T17:30:04.002696",
     "status": "completed"
    },
    "tags": []
   },
   "outputs": [
    {
     "name": "stdout",
     "output_type": "stream",
     "text": [
      "(163200, 11)\n",
      "(247112, 6)\n"
     ]
    }
   ],
   "source": [
    "train_colms = ['id_base', 'sequence', 'structure', 'predicted_loop_type', 'reactivity', 'deg_Mg_pH10', 'deg_pH10', 'deg_Mg_50C', 'deg_50C', 'bpps']\n",
    "\n",
    "test_colms = ['id_base', 'sequence', 'structure', 'predicted_loop_type', 'bpps']\n",
    "\n",
    "def create_rows_per_base(col_name, df):\n",
    "    col_list = []\n",
    "    for i in range(df.shape[0]):\n",
    "        if col_name == 'id_base':\n",
    "            s = df['id'][i]\n",
    "            for j in range(68):\n",
    "                col_list.append(\"_\".join([s, str(j)]))\n",
    "        else:\n",
    "            for j in range(68):\n",
    "                col_list.append(df[col_name][i][j])\n",
    "            \n",
    "    return col_list\n",
    "\n",
    "d_train = {}\n",
    "for colum in train_colms:\n",
    "    d_train[colum] = create_rows_per_base(colum, train_df)\n",
    "    \n",
    "d_test = {}\n",
    "for colum in test_colms:\n",
    "    d_test[colum] = create_rows_per_base(colum, test_df)\n",
    "\n",
    "seqn_train_df = pd.DataFrame(d_train, columns=train_colms)\n",
    "seqn_train_df['paired_or_unpaired'] = seqn_train_df['structure'].apply(lambda x: 1 if x == '(' else 1 if x == ')' else 0)\n",
    "print(seqn_train_df.shape)\n",
    "\n",
    "seqn_test_df = pd.DataFrame(d_test, columns=test_colms)\n",
    "seqn_test_df['paired_or_unpaired'] = seqn_test_df['structure'].apply(lambda x: 1 if x == '(' else 1 if x == ')' else 0)\n",
    "print(seqn_test_df.shape)"
   ]
  },
  {
   "cell_type": "markdown",
   "id": "3c985efa",
   "metadata": {
    "papermill": {
     "duration": 0.012797,
     "end_time": "2023-01-26T17:30:18.367136",
     "exception": false,
     "start_time": "2023-01-26T17:30:18.354339",
     "status": "completed"
    },
    "tags": []
   },
   "source": [
    "# Creating 68 BPPS columns per base"
   ]
  },
  {
   "cell_type": "code",
   "execution_count": 7,
   "id": "ed3c7b88",
   "metadata": {
    "execution": {
     "iopub.execute_input": "2023-01-26T17:30:18.394726Z",
     "iopub.status.busy": "2023-01-26T17:30:18.394352Z",
     "iopub.status.idle": "2023-01-26T17:30:56.066611Z",
     "shell.execute_reply": "2023-01-26T17:30:56.065223Z"
    },
    "papermill": {
     "duration": 37.702369,
     "end_time": "2023-01-26T17:30:56.082552",
     "exception": false,
     "start_time": "2023-01-26T17:30:18.380183",
     "status": "completed"
    },
    "tags": []
   },
   "outputs": [
    {
     "name": "stdout",
     "output_type": "stream",
     "text": [
      "(163200, 79)\n",
      "(247112, 74)\n"
     ]
    }
   ],
   "source": [
    "def add_bpps_per_base(s,j):\n",
    "    return s[j]\n",
    "\n",
    "vect_func = np.vectorize(add_bpps_per_base, excluded=['j'])\n",
    "\n",
    "for jj in range(68):\n",
    "    seqn_train_df[\"_\".join(['bpps',str(jj)])] = vect_func(seqn_train_df['bpps'], jj)\n",
    "    \n",
    "for jj in range(68):\n",
    "    seqn_test_df[\"_\".join(['bpps',str(jj)])] = vect_func(seqn_test_df['bpps'], jj)\n",
    "    \n",
    "print(seqn_train_df.shape)\n",
    "print(seqn_test_df.shape)"
   ]
  },
  {
   "cell_type": "markdown",
   "id": "d3ab788b",
   "metadata": {
    "papermill": {
     "duration": 0.013342,
     "end_time": "2023-01-26T17:30:56.110045",
     "exception": false,
     "start_time": "2023-01-26T17:30:56.096703",
     "status": "completed"
    },
    "tags": []
   },
   "source": [
    "### Since the provided test dataset is without labels, we will create a test set from the train data to check the accuracy of the model"
   ]
  },
  {
   "cell_type": "markdown",
   "id": "2ec1f159",
   "metadata": {
    "papermill": {
     "duration": 0.01505,
     "end_time": "2023-01-26T17:30:56.138877",
     "exception": false,
     "start_time": "2023-01-26T17:30:56.123827",
     "status": "completed"
    },
    "tags": []
   },
   "source": [
    "### Using stratified sampling to split up the training data into train and test sets"
   ]
  },
  {
   "cell_type": "code",
   "execution_count": 8,
   "id": "6838a101",
   "metadata": {
    "execution": {
     "iopub.execute_input": "2023-01-26T17:30:56.169948Z",
     "iopub.status.busy": "2023-01-26T17:30:56.168973Z",
     "iopub.status.idle": "2023-01-26T17:30:57.078435Z",
     "shell.execute_reply": "2023-01-26T17:30:57.077035Z"
    },
    "papermill": {
     "duration": 0.92752,
     "end_time": "2023-01-26T17:30:57.080760",
     "exception": false,
     "start_time": "2023-01-26T17:30:56.153240",
     "status": "completed"
    },
    "tags": []
   },
   "outputs": [
    {
     "data": {
      "text/plain": [
       "array([[<AxesSubplot:title={'center':'reactivity'}>,\n",
       "        <AxesSubplot:title={'center':'deg_Mg_pH10'}>],\n",
       "       [<AxesSubplot:title={'center':'deg_pH10'}>,\n",
       "        <AxesSubplot:title={'center':'deg_Mg_50C'}>],\n",
       "       [<AxesSubplot:title={'center':'deg_50C'}>, <AxesSubplot:>]],\n",
       "      dtype=object)"
      ]
     },
     "execution_count": 8,
     "metadata": {},
     "output_type": "execute_result"
    },
    {
     "data": {
      "image/png": "[encoded data removed]",
      "text/plain": [
       "<Figure size 1440x1080 with 6 Axes>"
      ]
     },
     "metadata": {
      "needs_background": "light"
     },
     "output_type": "display_data"
    }
   ],
   "source": [
    "seqn_train_df[['reactivity','deg_Mg_pH10','deg_pH10','deg_Mg_50C','deg_50C']].hist(figsize=(20,15))"
   ]
  },
  {
   "cell_type": "code",
   "execution_count": 9,
   "id": "f19204b6",
   "metadata": {
    "execution": {
     "iopub.execute_input": "2023-01-26T17:30:57.109804Z",
     "iopub.status.busy": "2023-01-26T17:30:57.109433Z",
     "iopub.status.idle": "2023-01-26T17:30:57.116948Z",
     "shell.execute_reply": "2023-01-26T17:30:57.116198Z"
    },
    "papermill": {
     "duration": 0.024079,
     "end_time": "2023-01-26T17:30:57.118715",
     "exception": false,
     "start_time": "2023-01-26T17:30:57.094636",
     "status": "completed"
    },
    "tags": []
   },
   "outputs": [],
   "source": [
    "seqn_train_df['avg_of_ground_truths'] = (seqn_train_df['reactivity']+seqn_train_df['deg_Mg_pH10']+seqn_train_df['deg_pH10']+seqn_train_df['deg_Mg_50C']+seqn_train_df['deg_50C'])/5"
   ]
  },
  {
   "cell_type": "code",
   "execution_count": 10,
   "id": "90dd1f7e",
   "metadata": {
    "execution": {
     "iopub.execute_input": "2023-01-26T17:30:57.149275Z",
     "iopub.status.busy": "2023-01-26T17:30:57.147993Z",
     "iopub.status.idle": "2023-01-26T17:30:57.376779Z",
     "shell.execute_reply": "2023-01-26T17:30:57.375455Z"
    },
    "papermill": {
     "duration": 0.246762,
     "end_time": "2023-01-26T17:30:57.379205",
     "exception": false,
     "start_time": "2023-01-26T17:30:57.132443",
     "status": "completed"
    },
    "tags": []
   },
   "outputs": [
    {
     "data": {
      "text/plain": [
       "<AxesSubplot:>"
      ]
     },
     "execution_count": 10,
     "metadata": {},
     "output_type": "execute_result"
    },
    {
     "data": {
      "image/png": "[encoded data removed]",
      "text/plain": [
       "<Figure size 1440x720 with 1 Axes>"
      ]
     },
     "metadata": {
      "needs_background": "light"
     },
     "output_type": "display_data"
    }
   ],
   "source": [
    "seqn_train_df['avg_of_ground_truths'].hist(bins=30,figsize=(20,10))"
   ]
  },
  {
   "cell_type": "code",
   "execution_count": 11,
   "id": "f2aa0e66",
   "metadata": {
    "execution": {
     "iopub.execute_input": "2023-01-26T17:30:57.411444Z",
     "iopub.status.busy": "2023-01-26T17:30:57.410518Z",
     "iopub.status.idle": "2023-01-26T17:30:57.423919Z",
     "shell.execute_reply": "2023-01-26T17:30:57.422744Z"
    },
    "papermill": {
     "duration": 0.032529,
     "end_time": "2023-01-26T17:30:57.426386",
     "exception": false,
     "start_time": "2023-01-26T17:30:57.393857",
     "status": "completed"
    },
    "tags": []
   },
   "outputs": [],
   "source": [
    "seqn_train_df['ground_truth_categories'] = pd.cut(seqn_train_df['avg_of_ground_truths'],\n",
    "                                                 bins=[-30.0, -20.0, -10.0, 0.0, 10.0, 20.0, 30.0],\n",
    "                                                 labels=[1,2,3,4,5,6])"
   ]
  },
  {
   "cell_type": "code",
   "execution_count": 12,
   "id": "5c61728f",
   "metadata": {
    "execution": {
     "iopub.execute_input": "2023-01-26T17:30:57.457805Z",
     "iopub.status.busy": "2023-01-26T17:30:57.457239Z",
     "iopub.status.idle": "2023-01-26T17:30:57.856190Z",
     "shell.execute_reply": "2023-01-26T17:30:57.854468Z"
    },
    "papermill": {
     "duration": 0.417472,
     "end_time": "2023-01-26T17:30:57.858795",
     "exception": false,
     "start_time": "2023-01-26T17:30:57.441323",
     "status": "completed"
    },
    "tags": []
   },
   "outputs": [
    {
     "data": {
      "text/plain": [
       "<AxesSubplot:>"
      ]
     },
     "execution_count": 12,
     "metadata": {},
     "output_type": "execute_result"
    },
    {
     "data": {
      "image/png": "[encoded data removed]",
      "text/plain": [
       "<Figure size 1440x720 with 1 Axes>"
      ]
     },
     "metadata": {
      "needs_background": "light"
     },
     "output_type": "display_data"
    }
   ],
   "source": [
    "seqn_train_df['ground_truth_categories'].hist(figsize=(20,10))"
   ]
  },
  {
   "cell_type": "code",
   "execution_count": 13,
   "id": "b0b2c5e7",
   "metadata": {
    "execution": {
     "iopub.execute_input": "2023-01-26T17:30:57.889900Z",
     "iopub.status.busy": "2023-01-26T17:30:57.889100Z",
     "iopub.status.idle": "2023-01-26T17:30:57.898103Z",
     "shell.execute_reply": "2023-01-26T17:30:57.896842Z"
    },
    "papermill": {
     "duration": 0.026895,
     "end_time": "2023-01-26T17:30:57.900258",
     "exception": false,
     "start_time": "2023-01-26T17:30:57.873363",
     "status": "completed"
    },
    "tags": []
   },
   "outputs": [
    {
     "data": {
      "text/plain": [
       "4    153003\n",
       "3     10112\n",
       "1        37\n",
       "5        29\n",
       "2        17\n",
       "6         2\n",
       "Name: ground_truth_categories, dtype: int64"
      ]
     },
     "execution_count": 13,
     "metadata": {},
     "output_type": "execute_result"
    }
   ],
   "source": [
    "seqn_train_df['ground_truth_categories'].value_counts()"
   ]
  },
  {
   "cell_type": "code",
   "execution_count": 14,
   "id": "118daedd",
   "metadata": {
    "execution": {
     "iopub.execute_input": "2023-01-26T17:30:57.932181Z",
     "iopub.status.busy": "2023-01-26T17:30:57.931475Z",
     "iopub.status.idle": "2023-01-26T17:30:58.144612Z",
     "shell.execute_reply": "2023-01-26T17:30:58.143938Z"
    },
    "papermill": {
     "duration": 0.231325,
     "end_time": "2023-01-26T17:30:58.146806",
     "exception": false,
     "start_time": "2023-01-26T17:30:57.915481",
     "status": "completed"
    },
    "tags": []
   },
   "outputs": [],
   "source": [
    "split = StratifiedShuffleSplit(n_splits=1, test_size=0.2, random_state=42)\n",
    "for train_index, test_index in split.split(seqn_train_df, seqn_train_df['ground_truth_categories']):\n",
    "    strat_train_set = seqn_train_df.loc[train_index]\n",
    "    strat_test_set = seqn_train_df.loc[test_index]"
   ]
  },
  {
   "cell_type": "code",
   "execution_count": 15,
   "id": "f90f742a",
   "metadata": {
    "execution": {
     "iopub.execute_input": "2023-01-26T17:30:58.180463Z",
     "iopub.status.busy": "2023-01-26T17:30:58.179841Z",
     "iopub.status.idle": "2023-01-26T17:30:58.189238Z",
     "shell.execute_reply": "2023-01-26T17:30:58.188213Z"
    },
    "papermill": {
     "duration": 0.029013,
     "end_time": "2023-01-26T17:30:58.191088",
     "exception": false,
     "start_time": "2023-01-26T17:30:58.162075",
     "status": "completed"
    },
    "tags": []
   },
   "outputs": [
    {
     "data": {
      "text/plain": [
       "4    0.937531\n",
       "3    0.061979\n",
       "1    0.000214\n",
       "5    0.000184\n",
       "2    0.000092\n",
       "6    0.000000\n",
       "Name: ground_truth_categories, dtype: float64"
      ]
     },
     "execution_count": 15,
     "metadata": {},
     "output_type": "execute_result"
    }
   ],
   "source": [
    "strat_test_set['ground_truth_categories'].value_counts()/len(strat_test_set)"
   ]
  },
  {
   "cell_type": "code",
   "execution_count": 16,
   "id": "569d2c94",
   "metadata": {
    "execution": {
     "iopub.execute_input": "2023-01-26T17:30:58.223802Z",
     "iopub.status.busy": "2023-01-26T17:30:58.223444Z",
     "iopub.status.idle": "2023-01-26T17:30:58.235540Z",
     "shell.execute_reply": "2023-01-26T17:30:58.233825Z"
    },
    "papermill": {
     "duration": 0.030852,
     "end_time": "2023-01-26T17:30:58.238251",
     "exception": false,
     "start_time": "2023-01-26T17:30:58.207399",
     "status": "completed"
    },
    "tags": []
   },
   "outputs": [
    {
     "data": {
      "text/plain": [
       "4    0.937515\n",
       "3    0.061956\n",
       "1    0.000230\n",
       "5    0.000176\n",
       "2    0.000107\n",
       "6    0.000015\n",
       "Name: ground_truth_categories, dtype: float64"
      ]
     },
     "execution_count": 16,
     "metadata": {},
     "output_type": "execute_result"
    }
   ],
   "source": [
    "strat_train_set['ground_truth_categories'].value_counts()/len(strat_train_set)"
   ]
  },
  {
   "cell_type": "code",
   "execution_count": 17,
   "id": "4a9e2d3f",
   "metadata": {
    "execution": {
     "iopub.execute_input": "2023-01-26T17:30:58.269800Z",
     "iopub.status.busy": "2023-01-26T17:30:58.269250Z",
     "iopub.status.idle": "2023-01-26T17:30:58.312809Z",
     "shell.execute_reply": "2023-01-26T17:30:58.311622Z"
    },
    "papermill": {
     "duration": 0.062022,
     "end_time": "2023-01-26T17:30:58.315416",
     "exception": false,
     "start_time": "2023-01-26T17:30:58.253394",
     "status": "completed"
    },
    "tags": []
   },
   "outputs": [],
   "source": [
    "for df in (strat_train_set, strat_test_set):\n",
    "    df.drop(['avg_of_ground_truths','ground_truth_categories'], axis=1, inplace=True)"
   ]
  },
  {
   "cell_type": "markdown",
   "id": "2d27881d",
   "metadata": {
    "papermill": {
     "duration": 0.014929,
     "end_time": "2023-01-26T17:30:58.345389",
     "exception": false,
     "start_time": "2023-01-26T17:30:58.330460",
     "status": "completed"
    },
    "tags": []
   },
   "source": [
    "## Squaring the numeric columns to avoid the negatives and bring everything onto a similar 2D scale\n",
    "### Labels are left as-is"
   ]
  },
  {
   "cell_type": "code",
   "execution_count": 18,
   "id": "190c7c3c",
   "metadata": {
    "execution": {
     "iopub.execute_input": "2023-01-26T17:30:58.379211Z",
     "iopub.status.busy": "2023-01-26T17:30:58.378856Z",
     "iopub.status.idle": "2023-01-26T17:30:58.948187Z",
     "shell.execute_reply": "2023-01-26T17:30:58.946710Z"
    },
    "papermill": {
     "duration": 0.589403,
     "end_time": "2023-01-26T17:30:58.950392",
     "exception": false,
     "start_time": "2023-01-26T17:30:58.360989",
     "status": "completed"
    },
    "tags": []
   },
   "outputs": [
    {
     "name": "stdout",
     "output_type": "stream",
     "text": [
      "(130560, 77)\n",
      "(32640, 77)\n",
      "(247112, 72)\n"
     ]
    }
   ],
   "source": [
    "seqn_train_df_sqrd = strat_train_set.drop(['structure','bpps'],axis=1)\n",
    "seqn_test_df_sqrd = strat_test_set.drop(['structure','bpps'],axis=1)\n",
    "seqn_eval_df_sqrd = seqn_test_df.drop(['structure','bpps'],axis=1)\n",
    "\n",
    "colms_to_sqr = ['bpps_0', 'bpps_1', 'bpps_2', 'bpps_3', 'bpps_4', 'bpps_5', 'bpps_6', 'bpps_7', 'bpps_8', 'bpps_9', 'bpps_10',\n",
    "       'bpps_11', 'bpps_12', 'bpps_13', 'bpps_14', 'bpps_15', 'bpps_16','bpps_17', 'bpps_18', 'bpps_19', 'bpps_20', 'bpps_21', 'bpps_22',\n",
    "       'bpps_23', 'bpps_24', 'bpps_25', 'bpps_26', 'bpps_27', 'bpps_28','bpps_29', 'bpps_30', 'bpps_31', 'bpps_32', 'bpps_33', 'bpps_34',\n",
    "       'bpps_35', 'bpps_36', 'bpps_37', 'bpps_38', 'bpps_39', 'bpps_40','bpps_41', 'bpps_42', 'bpps_43', 'bpps_44', 'bpps_45', 'bpps_46',\n",
    "       'bpps_47', 'bpps_48', 'bpps_49', 'bpps_50', 'bpps_51', 'bpps_52','bpps_53', 'bpps_54', 'bpps_55', 'bpps_56', 'bpps_57', 'bpps_58',\n",
    "       'bpps_59', 'bpps_60', 'bpps_61', 'bpps_62', 'bpps_63', 'bpps_64','bpps_65', 'bpps_66', 'bpps_67']\n",
    "\n",
    "for i in range(len(colms_to_sqr)):\n",
    "    col_name = colms_to_sqr[i]\n",
    "    sqrd_col_name = \"_\".join([col_name,'sqrd'])\n",
    "    seqn_train_df_sqrd[sqrd_col_name] = np.square(seqn_train_df_sqrd[col_name])\n",
    "    seqn_test_df_sqrd[sqrd_col_name] = np.square(seqn_test_df_sqrd[col_name])\n",
    "    seqn_eval_df_sqrd[sqrd_col_name] = np.square(seqn_eval_df_sqrd[col_name])  \n",
    "\n",
    "seqn_train_df_sqrd.drop(colms_to_sqr, axis=1, inplace=True)\n",
    "print(seqn_train_df_sqrd.shape)\n",
    "\n",
    "seqn_test_df_sqrd.drop(colms_to_sqr, axis=1, inplace=True)\n",
    "print(seqn_test_df_sqrd.shape)\n",
    "\n",
    "seqn_eval_df_sqrd.drop(colms_to_sqr, axis=1, inplace=True)\n",
    "print(seqn_eval_df_sqrd.shape)"
   ]
  },
  {
   "cell_type": "code",
   "execution_count": 19,
   "id": "ac26b834",
   "metadata": {
    "execution": {
     "iopub.execute_input": "2023-01-26T17:30:58.983335Z",
     "iopub.status.busy": "2023-01-26T17:30:58.982983Z",
     "iopub.status.idle": "2023-01-26T17:31:19.754428Z",
     "shell.execute_reply": "2023-01-26T17:31:19.752561Z"
    },
    "papermill": {
     "duration": 20.791007,
     "end_time": "2023-01-26T17:31:19.757169",
     "exception": false,
     "start_time": "2023-01-26T17:30:58.966162",
     "status": "completed"
    },
    "tags": []
   },
   "outputs": [
    {
     "data": {
      "image/png": "[encoded data removed]",
      "text/plain": [
       "<Figure size 1440x864 with 25 Axes>"
      ]
     },
     "metadata": {
      "needs_background": "light"
     },
     "output_type": "display_data"
    }
   ],
   "source": [
    "attributes = ['reactivity', 'bpps_10_sqrd', 'bpps_25_sqrd', 'bpps_40_sqrd', 'bpps_65_sqrd']\n",
    "\n",
    "scatter_plot_arr = scatter_matrix(seqn_train_df_sqrd[attributes], figsize=(20,12))"
   ]
  },
  {
   "cell_type": "code",
   "execution_count": 20,
   "id": "17c41cb5",
   "metadata": {
    "execution": {
     "iopub.execute_input": "2023-01-26T17:31:19.793226Z",
     "iopub.status.busy": "2023-01-26T17:31:19.792322Z",
     "iopub.status.idle": "2023-01-26T17:31:20.642245Z",
     "shell.execute_reply": "2023-01-26T17:31:20.640677Z"
    },
    "papermill": {
     "duration": 0.870815,
     "end_time": "2023-01-26T17:31:20.644851",
     "exception": false,
     "start_time": "2023-01-26T17:31:19.774036",
     "status": "completed"
    },
    "tags": []
   },
   "outputs": [
    {
     "data": {
      "text/plain": [
       "<AxesSubplot:xlabel='bpps_51_sqrd', ylabel='deg_pH10'>"
      ]
     },
     "execution_count": 20,
     "metadata": {},
     "output_type": "execute_result"
    },
    {
     "data": {
      "image/png": "[encoded data removed]",
      "text/plain": [
       "<Figure size 1440x864 with 1 Axes>"
      ]
     },
     "metadata": {
      "needs_background": "light"
     },
     "output_type": "display_data"
    }
   ],
   "source": [
    "seqn_train_df_sqrd.plot(kind=\"scatter\", x=\"bpps_51_sqrd\", y=\"deg_pH10\", alpha=0.3, figsize=(20,12))"
   ]
  },
  {
   "cell_type": "markdown",
   "id": "ccab6670",
   "metadata": {
    "papermill": {
     "duration": 0.017586,
     "end_time": "2023-01-26T17:31:20.680722",
     "exception": false,
     "start_time": "2023-01-26T17:31:20.663136",
     "status": "completed"
    },
    "tags": []
   },
   "source": [
    "### Observing a polynomial relationship (y=1/x) which has quite a few outliers, applying standardization (subtract by mean then divide by standard deviation) to reduce those.\n",
    "### Using standardization to reduce the effect of outliers in feature scaling"
   ]
  },
  {
   "cell_type": "code",
   "execution_count": 21,
   "id": "bef59ce4",
   "metadata": {
    "execution": {
     "iopub.execute_input": "2023-01-26T17:31:20.720148Z",
     "iopub.status.busy": "2023-01-26T17:31:20.718871Z",
     "iopub.status.idle": "2023-01-26T17:31:21.382372Z",
     "shell.execute_reply": "2023-01-26T17:31:21.379963Z"
    },
    "papermill": {
     "duration": 0.687708,
     "end_time": "2023-01-26T17:31:21.386254",
     "exception": false,
     "start_time": "2023-01-26T17:31:20.698546",
     "status": "completed"
    },
    "tags": []
   },
   "outputs": [
    {
     "name": "stdout",
     "output_type": "stream",
     "text": [
      "(130560, 77)\n",
      "(32640, 77)\n",
      "(247112, 72)\n"
     ]
    }
   ],
   "source": [
    "colms_for_std = [\n",
    "       'bpps_0_sqrd', 'bpps_1_sqrd',\n",
    "       'bpps_2_sqrd', 'bpps_3_sqrd', 'bpps_4_sqrd', 'bpps_5_sqrd',\n",
    "       'bpps_6_sqrd', 'bpps_7_sqrd', 'bpps_8_sqrd', 'bpps_9_sqrd',\n",
    "       'bpps_10_sqrd', 'bpps_11_sqrd', 'bpps_12_sqrd', 'bpps_13_sqrd',\n",
    "       'bpps_14_sqrd', 'bpps_15_sqrd', 'bpps_16_sqrd', 'bpps_17_sqrd',\n",
    "       'bpps_18_sqrd', 'bpps_19_sqrd', 'bpps_20_sqrd', 'bpps_21_sqrd',\n",
    "       'bpps_22_sqrd', 'bpps_23_sqrd', 'bpps_24_sqrd', 'bpps_25_sqrd',\n",
    "       'bpps_26_sqrd', 'bpps_27_sqrd', 'bpps_28_sqrd', 'bpps_29_sqrd',\n",
    "       'bpps_30_sqrd', 'bpps_31_sqrd', 'bpps_32_sqrd', 'bpps_33_sqrd',\n",
    "       'bpps_34_sqrd', 'bpps_35_sqrd', 'bpps_36_sqrd', 'bpps_37_sqrd',\n",
    "       'bpps_38_sqrd', 'bpps_39_sqrd', 'bpps_40_sqrd', 'bpps_41_sqrd',\n",
    "       'bpps_42_sqrd', 'bpps_43_sqrd', 'bpps_44_sqrd', 'bpps_45_sqrd',\n",
    "       'bpps_46_sqrd', 'bpps_47_sqrd', 'bpps_48_sqrd', 'bpps_49_sqrd',\n",
    "       'bpps_50_sqrd', 'bpps_51_sqrd', 'bpps_52_sqrd', 'bpps_53_sqrd',\n",
    "       'bpps_54_sqrd', 'bpps_55_sqrd', 'bpps_56_sqrd', 'bpps_57_sqrd',\n",
    "       'bpps_58_sqrd', 'bpps_59_sqrd', 'bpps_60_sqrd', 'bpps_61_sqrd',\n",
    "       'bpps_62_sqrd', 'bpps_63_sqrd', 'bpps_64_sqrd', 'bpps_65_sqrd',\n",
    "       'bpps_66_sqrd', 'bpps_67_sqrd'\n",
    "]\n",
    "\n",
    "for i in range(len(colms_for_std)):\n",
    "    col_name = colms_for_std[i]\n",
    "    col_name_std = \"_\".join([col_name, 'std'])\n",
    "    seqn_train_df_sqrd[col_name_std] = (seqn_train_df_sqrd[col_name] - seqn_train_df_sqrd[col_name].mean())/seqn_train_df_sqrd[col_name].std()\n",
    "    seqn_test_df_sqrd[col_name_std] = (seqn_test_df_sqrd[col_name] - seqn_test_df_sqrd[col_name].mean())/seqn_test_df_sqrd[col_name].std()\n",
    "    seqn_eval_df_sqrd[col_name_std] = (seqn_eval_df_sqrd[col_name] - seqn_eval_df_sqrd[col_name].mean())/seqn_eval_df_sqrd[col_name].std()\n",
    "\n",
    "seqn_train_df_sqrd.drop(colms_for_std, axis=1, inplace=True)\n",
    "print(seqn_train_df_sqrd.shape)\n",
    "\n",
    "seqn_test_df_sqrd.drop(colms_for_std, axis=1, inplace=True)\n",
    "print(seqn_test_df_sqrd.shape)\n",
    "\n",
    "seqn_eval_df_sqrd.drop(colms_for_std, axis=1, inplace=True)\n",
    "print(seqn_eval_df_sqrd.shape)"
   ]
  },
  {
   "cell_type": "code",
   "execution_count": 22,
   "id": "12add87e",
   "metadata": {
    "execution": {
     "iopub.execute_input": "2023-01-26T17:31:21.431259Z",
     "iopub.status.busy": "2023-01-26T17:31:21.430590Z",
     "iopub.status.idle": "2023-01-26T17:31:42.111076Z",
     "shell.execute_reply": "2023-01-26T17:31:42.110046Z"
    },
    "papermill": {
     "duration": 20.705429,
     "end_time": "2023-01-26T17:31:42.113999",
     "exception": false,
     "start_time": "2023-01-26T17:31:21.408570",
     "status": "completed"
    },
    "tags": []
   },
   "outputs": [
    {
     "data": {
      "image/png": "[encoded data removed]",
      "text/plain": [
       "<Figure size 1440x864 with 25 Axes>"
      ]
     },
     "metadata": {
      "needs_background": "light"
     },
     "output_type": "display_data"
    }
   ],
   "source": [
    "attributes = ['reactivity', 'bpps_10_sqrd_std', 'bpps_35_sqrd_std', 'bpps_48_sqrd_std', 'bpps_60_sqrd_std']\n",
    "\n",
    "scatter_plot_arr = scatter_matrix(seqn_train_df_sqrd[attributes], figsize=(20,12))"
   ]
  },
  {
   "cell_type": "code",
   "execution_count": 23,
   "id": "8b83cb82",
   "metadata": {
    "execution": {
     "iopub.execute_input": "2023-01-26T17:31:42.151898Z",
     "iopub.status.busy": "2023-01-26T17:31:42.151561Z",
     "iopub.status.idle": "2023-01-26T17:32:02.677721Z",
     "shell.execute_reply": "2023-01-26T17:32:02.675987Z"
    },
    "papermill": {
     "duration": 20.548118,
     "end_time": "2023-01-26T17:32:02.680560",
     "exception": false,
     "start_time": "2023-01-26T17:31:42.132442",
     "status": "completed"
    },
    "tags": []
   },
   "outputs": [
    {
     "data": {
      "image/png": "[encoded data removed]",
      "text/plain": [
       "<Figure size 1440x864 with 25 Axes>"
      ]
     },
     "metadata": {
      "needs_background": "light"
     },
     "output_type": "display_data"
    }
   ],
   "source": [
    "attributes = ['deg_Mg_pH10', 'bpps_65_sqrd_std', 'bpps_11_sqrd_std', 'bpps_42_sqrd_std', 'bpps_0_sqrd_std']\n",
    "\n",
    "scatter_plot_arr = scatter_matrix(seqn_train_df_sqrd[attributes], figsize=(20,12))"
   ]
  },
  {
   "cell_type": "code",
   "execution_count": 24,
   "id": "b36cf285",
   "metadata": {
    "execution": {
     "iopub.execute_input": "2023-01-26T17:32:02.722273Z",
     "iopub.status.busy": "2023-01-26T17:32:02.721807Z",
     "iopub.status.idle": "2023-01-26T17:32:03.555924Z",
     "shell.execute_reply": "2023-01-26T17:32:03.555013Z"
    },
    "papermill": {
     "duration": 0.857156,
     "end_time": "2023-01-26T17:32:03.557969",
     "exception": false,
     "start_time": "2023-01-26T17:32:02.700813",
     "status": "completed"
    },
    "tags": []
   },
   "outputs": [
    {
     "data": {
      "text/plain": [
       "<AxesSubplot:xlabel='bpps_65_sqrd_std', ylabel='deg_Mg_pH10'>"
      ]
     },
     "execution_count": 24,
     "metadata": {},
     "output_type": "execute_result"
    },
    {
     "data": {
      "image/png": "[encoded data removed]",
      "text/plain": [
       "<Figure size 1440x864 with 1 Axes>"
      ]
     },
     "metadata": {
      "needs_background": "light"
     },
     "output_type": "display_data"
    }
   ],
   "source": [
    "seqn_train_df_sqrd.plot(kind=\"scatter\", x=\"bpps_65_sqrd_std\", y=\"deg_Mg_pH10\", alpha=0.3, figsize=(20,12))"
   ]
  },
  {
   "cell_type": "code",
   "execution_count": 25,
   "id": "203fb943",
   "metadata": {
    "execution": {
     "iopub.execute_input": "2023-01-26T17:32:03.604164Z",
     "iopub.status.busy": "2023-01-26T17:32:03.603720Z",
     "iopub.status.idle": "2023-01-26T17:32:05.128697Z",
     "shell.execute_reply": "2023-01-26T17:32:05.127184Z"
    },
    "papermill": {
     "duration": 1.551325,
     "end_time": "2023-01-26T17:32:05.131165",
     "exception": false,
     "start_time": "2023-01-26T17:32:03.579840",
     "status": "completed"
    },
    "tags": []
   },
   "outputs": [
    {
     "data": {
      "text/html": [
       "<div>\n",
       "<style scoped>\n",
       "    .dataframe tbody tr th:only-of-type {\n",
       "        vertical-align: middle;\n",
       "    }\n",
       "\n",
       "    .dataframe tbody tr th {\n",
       "        vertical-align: top;\n",
       "    }\n",
       "\n",
       "    .dataframe thead th {\n",
       "        text-align: right;\n",
       "    }\n",
       "</style>\n",
       "<table border=\"1\" class=\"dataframe\">\n",
       "  <thead>\n",
       "    <tr style=\"text-align: right;\">\n",
       "      <th></th>\n",
       "      <th>reactivity</th>\n",
       "      <th>deg_Mg_pH10</th>\n",
       "      <th>deg_pH10</th>\n",
       "      <th>deg_Mg_50C</th>\n",
       "      <th>deg_50C</th>\n",
       "      <th>paired_or_unpaired</th>\n",
       "      <th>bpps_0_sqrd_std</th>\n",
       "      <th>bpps_1_sqrd_std</th>\n",
       "      <th>bpps_2_sqrd_std</th>\n",
       "      <th>bpps_3_sqrd_std</th>\n",
       "      <th>...</th>\n",
       "      <th>bpps_58_sqrd_std</th>\n",
       "      <th>bpps_59_sqrd_std</th>\n",
       "      <th>bpps_60_sqrd_std</th>\n",
       "      <th>bpps_61_sqrd_std</th>\n",
       "      <th>bpps_62_sqrd_std</th>\n",
       "      <th>bpps_63_sqrd_std</th>\n",
       "      <th>bpps_64_sqrd_std</th>\n",
       "      <th>bpps_65_sqrd_std</th>\n",
       "      <th>bpps_66_sqrd_std</th>\n",
       "      <th>bpps_67_sqrd_std</th>\n",
       "    </tr>\n",
       "  </thead>\n",
       "  <tbody>\n",
       "    <tr>\n",
       "      <th>reactivity</th>\n",
       "      <td>1.000000</td>\n",
       "      <td>0.468421</td>\n",
       "      <td>0.423882</td>\n",
       "      <td>0.497447</td>\n",
       "      <td>0.452006</td>\n",
       "      <td>-0.265098</td>\n",
       "      <td>-0.006773</td>\n",
       "      <td>-0.011058</td>\n",
       "      <td>-0.004187</td>\n",
       "      <td>-0.000936</td>\n",
       "      <td>...</td>\n",
       "      <td>-0.027925</td>\n",
       "      <td>-0.028712</td>\n",
       "      <td>-0.031099</td>\n",
       "      <td>-0.029170</td>\n",
       "      <td>-0.032279</td>\n",
       "      <td>-0.033296</td>\n",
       "      <td>-0.031035</td>\n",
       "      <td>-0.024929</td>\n",
       "      <td>-0.024568</td>\n",
       "      <td>-0.020635</td>\n",
       "    </tr>\n",
       "    <tr>\n",
       "      <th>deg_Mg_pH10</th>\n",
       "      <td>0.468421</td>\n",
       "      <td>1.000000</td>\n",
       "      <td>0.440746</td>\n",
       "      <td>0.558036</td>\n",
       "      <td>0.416830</td>\n",
       "      <td>-0.185540</td>\n",
       "      <td>-0.004562</td>\n",
       "      <td>-0.007421</td>\n",
       "      <td>-0.004607</td>\n",
       "      <td>-0.000675</td>\n",
       "      <td>...</td>\n",
       "      <td>-0.024910</td>\n",
       "      <td>-0.021098</td>\n",
       "      <td>-0.026928</td>\n",
       "      <td>-0.022806</td>\n",
       "      <td>-0.024353</td>\n",
       "      <td>-0.023310</td>\n",
       "      <td>-0.024386</td>\n",
       "      <td>-0.021070</td>\n",
       "      <td>-0.013263</td>\n",
       "      <td>-0.008900</td>\n",
       "    </tr>\n",
       "    <tr>\n",
       "      <th>deg_pH10</th>\n",
       "      <td>0.423882</td>\n",
       "      <td>0.440746</td>\n",
       "      <td>1.000000</td>\n",
       "      <td>0.503934</td>\n",
       "      <td>0.469819</td>\n",
       "      <td>-0.132159</td>\n",
       "      <td>0.000686</td>\n",
       "      <td>-0.002969</td>\n",
       "      <td>0.001316</td>\n",
       "      <td>0.004400</td>\n",
       "      <td>...</td>\n",
       "      <td>-0.016296</td>\n",
       "      <td>-0.014458</td>\n",
       "      <td>-0.016867</td>\n",
       "      <td>-0.013956</td>\n",
       "      <td>-0.014314</td>\n",
       "      <td>-0.010899</td>\n",
       "      <td>-0.010065</td>\n",
       "      <td>-0.008628</td>\n",
       "      <td>-0.004387</td>\n",
       "      <td>-0.004606</td>\n",
       "    </tr>\n",
       "    <tr>\n",
       "      <th>deg_Mg_50C</th>\n",
       "      <td>0.497447</td>\n",
       "      <td>0.558036</td>\n",
       "      <td>0.503934</td>\n",
       "      <td>1.000000</td>\n",
       "      <td>0.492834</td>\n",
       "      <td>-0.187452</td>\n",
       "      <td>-0.002562</td>\n",
       "      <td>-0.005395</td>\n",
       "      <td>-0.002189</td>\n",
       "      <td>0.000122</td>\n",
       "      <td>...</td>\n",
       "      <td>-0.020816</td>\n",
       "      <td>-0.020511</td>\n",
       "      <td>-0.025064</td>\n",
       "      <td>-0.022975</td>\n",
       "      <td>-0.023162</td>\n",
       "      <td>-0.021833</td>\n",
       "      <td>-0.019103</td>\n",
       "      <td>-0.020236</td>\n",
       "      <td>-0.010736</td>\n",
       "      <td>-0.010491</td>\n",
       "    </tr>\n",
       "    <tr>\n",
       "      <th>deg_50C</th>\n",
       "      <td>0.452006</td>\n",
       "      <td>0.416830</td>\n",
       "      <td>0.469819</td>\n",
       "      <td>0.492834</td>\n",
       "      <td>1.000000</td>\n",
       "      <td>-0.133403</td>\n",
       "      <td>0.001408</td>\n",
       "      <td>-0.006175</td>\n",
       "      <td>-0.003456</td>\n",
       "      <td>-0.001761</td>\n",
       "      <td>...</td>\n",
       "      <td>-0.017700</td>\n",
       "      <td>-0.015278</td>\n",
       "      <td>-0.018507</td>\n",
       "      <td>-0.016603</td>\n",
       "      <td>-0.017154</td>\n",
       "      <td>-0.015037</td>\n",
       "      <td>-0.014212</td>\n",
       "      <td>-0.012406</td>\n",
       "      <td>-0.006550</td>\n",
       "      <td>-0.006827</td>\n",
       "    </tr>\n",
       "    <tr>\n",
       "      <th>...</th>\n",
       "      <td>...</td>\n",
       "      <td>...</td>\n",
       "      <td>...</td>\n",
       "      <td>...</td>\n",
       "      <td>...</td>\n",
       "      <td>...</td>\n",
       "      <td>...</td>\n",
       "      <td>...</td>\n",
       "      <td>...</td>\n",
       "      <td>...</td>\n",
       "      <td>...</td>\n",
       "      <td>...</td>\n",
       "      <td>...</td>\n",
       "      <td>...</td>\n",
       "      <td>...</td>\n",
       "      <td>...</td>\n",
       "      <td>...</td>\n",
       "      <td>...</td>\n",
       "      <td>...</td>\n",
       "      <td>...</td>\n",
       "      <td>...</td>\n",
       "    </tr>\n",
       "    <tr>\n",
       "      <th>bpps_63_sqrd_std</th>\n",
       "      <td>-0.033296</td>\n",
       "      <td>-0.023310</td>\n",
       "      <td>-0.010899</td>\n",
       "      <td>-0.021833</td>\n",
       "      <td>-0.015037</td>\n",
       "      <td>0.083095</td>\n",
       "      <td>-0.001666</td>\n",
       "      <td>-0.002057</td>\n",
       "      <td>-0.001847</td>\n",
       "      <td>-0.002052</td>\n",
       "      <td>...</td>\n",
       "      <td>-0.006472</td>\n",
       "      <td>-0.006436</td>\n",
       "      <td>-0.006340</td>\n",
       "      <td>-0.006260</td>\n",
       "      <td>-0.006883</td>\n",
       "      <td>1.000000</td>\n",
       "      <td>-0.006223</td>\n",
       "      <td>-0.006113</td>\n",
       "      <td>-0.005761</td>\n",
       "      <td>-0.004147</td>\n",
       "    </tr>\n",
       "    <tr>\n",
       "      <th>bpps_64_sqrd_std</th>\n",
       "      <td>-0.031035</td>\n",
       "      <td>-0.024386</td>\n",
       "      <td>-0.010065</td>\n",
       "      <td>-0.019103</td>\n",
       "      <td>-0.014212</td>\n",
       "      <td>0.078720</td>\n",
       "      <td>-0.002250</td>\n",
       "      <td>-0.001703</td>\n",
       "      <td>-0.001294</td>\n",
       "      <td>-0.002031</td>\n",
       "      <td>...</td>\n",
       "      <td>-0.006323</td>\n",
       "      <td>-0.006145</td>\n",
       "      <td>-0.006291</td>\n",
       "      <td>-0.006326</td>\n",
       "      <td>-0.006226</td>\n",
       "      <td>-0.006223</td>\n",
       "      <td>1.000000</td>\n",
       "      <td>-0.006084</td>\n",
       "      <td>-0.005165</td>\n",
       "      <td>-0.004363</td>\n",
       "    </tr>\n",
       "    <tr>\n",
       "      <th>bpps_65_sqrd_std</th>\n",
       "      <td>-0.024929</td>\n",
       "      <td>-0.021070</td>\n",
       "      <td>-0.008628</td>\n",
       "      <td>-0.020236</td>\n",
       "      <td>-0.012406</td>\n",
       "      <td>0.075048</td>\n",
       "      <td>-0.001473</td>\n",
       "      <td>-0.000942</td>\n",
       "      <td>-0.001708</td>\n",
       "      <td>-0.001939</td>\n",
       "      <td>...</td>\n",
       "      <td>-0.006145</td>\n",
       "      <td>-0.005962</td>\n",
       "      <td>-0.005991</td>\n",
       "      <td>-0.006264</td>\n",
       "      <td>-0.006310</td>\n",
       "      <td>-0.006113</td>\n",
       "      <td>-0.006084</td>\n",
       "      <td>1.000000</td>\n",
       "      <td>-0.005165</td>\n",
       "      <td>-0.003753</td>\n",
       "    </tr>\n",
       "    <tr>\n",
       "      <th>bpps_66_sqrd_std</th>\n",
       "      <td>-0.024568</td>\n",
       "      <td>-0.013263</td>\n",
       "      <td>-0.004387</td>\n",
       "      <td>-0.010736</td>\n",
       "      <td>-0.006550</td>\n",
       "      <td>0.066037</td>\n",
       "      <td>-0.000367</td>\n",
       "      <td>-0.001844</td>\n",
       "      <td>-0.001213</td>\n",
       "      <td>-0.001423</td>\n",
       "      <td>...</td>\n",
       "      <td>-0.005455</td>\n",
       "      <td>-0.005375</td>\n",
       "      <td>-0.005379</td>\n",
       "      <td>-0.005588</td>\n",
       "      <td>-0.005459</td>\n",
       "      <td>-0.005761</td>\n",
       "      <td>-0.005165</td>\n",
       "      <td>-0.005165</td>\n",
       "      <td>1.000000</td>\n",
       "      <td>-0.003768</td>\n",
       "    </tr>\n",
       "    <tr>\n",
       "      <th>bpps_67_sqrd_std</th>\n",
       "      <td>-0.020635</td>\n",
       "      <td>-0.008900</td>\n",
       "      <td>-0.004606</td>\n",
       "      <td>-0.010491</td>\n",
       "      <td>-0.006827</td>\n",
       "      <td>0.051863</td>\n",
       "      <td>0.000222</td>\n",
       "      <td>-0.001313</td>\n",
       "      <td>-0.000627</td>\n",
       "      <td>-0.001059</td>\n",
       "      <td>...</td>\n",
       "      <td>-0.004356</td>\n",
       "      <td>-0.004289</td>\n",
       "      <td>-0.004352</td>\n",
       "      <td>-0.004421</td>\n",
       "      <td>-0.004634</td>\n",
       "      <td>-0.004147</td>\n",
       "      <td>-0.004363</td>\n",
       "      <td>-0.003753</td>\n",
       "      <td>-0.003768</td>\n",
       "      <td>1.000000</td>\n",
       "    </tr>\n",
       "  </tbody>\n",
       "</table>\n",
       "<p>74 rows × 74 columns</p>\n",
       "</div>"
      ],
      "text/plain": [
       "                  reactivity  deg_Mg_pH10  deg_pH10  deg_Mg_50C   deg_50C  \\\n",
       "reactivity          1.000000     0.468421  0.423882    0.497447  0.452006   \n",
       "deg_Mg_pH10         0.468421     1.000000  0.440746    0.558036  0.416830   \n",
       "deg_pH10            0.423882     0.440746  1.000000    0.503934  0.469819   \n",
       "deg_Mg_50C          0.497447     0.558036  0.503934    1.000000  0.492834   \n",
       "deg_50C             0.452006     0.416830  0.469819    0.492834  1.000000   \n",
       "...                      ...          ...       ...         ...       ...   \n",
       "bpps_63_sqrd_std   -0.033296    -0.023310 -0.010899   -0.021833 -0.015037   \n",
       "bpps_64_sqrd_std   -0.031035    -0.024386 -0.010065   -0.019103 -0.014212   \n",
       "bpps_65_sqrd_std   -0.024929    -0.021070 -0.008628   -0.020236 -0.012406   \n",
       "bpps_66_sqrd_std   -0.024568    -0.013263 -0.004387   -0.010736 -0.006550   \n",
       "bpps_67_sqrd_std   -0.020635    -0.008900 -0.004606   -0.010491 -0.006827   \n",
       "\n",
       "                  paired_or_unpaired  bpps_0_sqrd_std  bpps_1_sqrd_std  \\\n",
       "reactivity                 -0.265098        -0.006773        -0.011058   \n",
       "deg_Mg_pH10                -0.185540        -0.004562        -0.007421   \n",
       "deg_pH10                   -0.132159         0.000686        -0.002969   \n",
       "deg_Mg_50C                 -0.187452        -0.002562        -0.005395   \n",
       "deg_50C                    -0.133403         0.001408        -0.006175   \n",
       "...                              ...              ...              ...   \n",
       "bpps_63_sqrd_std            0.083095        -0.001666        -0.002057   \n",
       "bpps_64_sqrd_std            0.078720        -0.002250        -0.001703   \n",
       "bpps_65_sqrd_std            0.075048        -0.001473        -0.000942   \n",
       "bpps_66_sqrd_std            0.066037        -0.000367        -0.001844   \n",
       "bpps_67_sqrd_std            0.051863         0.000222        -0.001313   \n",
       "\n",
       "                  bpps_2_sqrd_std  bpps_3_sqrd_std  ...  bpps_58_sqrd_std  \\\n",
       "reactivity              -0.004187        -0.000936  ...         -0.027925   \n",
       "deg_Mg_pH10             -0.004607        -0.000675  ...         -0.024910   \n",
       "deg_pH10                 0.001316         0.004400  ...         -0.016296   \n",
       "deg_Mg_50C              -0.002189         0.000122  ...         -0.020816   \n",
       "deg_50C                 -0.003456        -0.001761  ...         -0.017700   \n",
       "...                           ...              ...  ...               ...   \n",
       "bpps_63_sqrd_std        -0.001847        -0.002052  ...         -0.006472   \n",
       "bpps_64_sqrd_std        -0.001294        -0.002031  ...         -0.006323   \n",
       "bpps_65_sqrd_std        -0.001708        -0.001939  ...         -0.006145   \n",
       "bpps_66_sqrd_std        -0.001213        -0.001423  ...         -0.005455   \n",
       "bpps_67_sqrd_std        -0.000627        -0.001059  ...         -0.004356   \n",
       "\n",
       "                  bpps_59_sqrd_std  bpps_60_sqrd_std  bpps_61_sqrd_std  \\\n",
       "reactivity               -0.028712         -0.031099         -0.029170   \n",
       "deg_Mg_pH10              -0.021098         -0.026928         -0.022806   \n",
       "deg_pH10                 -0.014458         -0.016867         -0.013956   \n",
       "deg_Mg_50C               -0.020511         -0.025064         -0.022975   \n",
       "deg_50C                  -0.015278         -0.018507         -0.016603   \n",
       "...                            ...               ...               ...   \n",
       "bpps_63_sqrd_std         -0.006436         -0.006340         -0.006260   \n",
       "bpps_64_sqrd_std         -0.006145         -0.006291         -0.006326   \n",
       "bpps_65_sqrd_std         -0.005962         -0.005991         -0.006264   \n",
       "bpps_66_sqrd_std         -0.005375         -0.005379         -0.005588   \n",
       "bpps_67_sqrd_std         -0.004289         -0.004352         -0.004421   \n",
       "\n",
       "                  bpps_62_sqrd_std  bpps_63_sqrd_std  bpps_64_sqrd_std  \\\n",
       "reactivity               -0.032279         -0.033296         -0.031035   \n",
       "deg_Mg_pH10              -0.024353         -0.023310         -0.024386   \n",
       "deg_pH10                 -0.014314         -0.010899         -0.010065   \n",
       "deg_Mg_50C               -0.023162         -0.021833         -0.019103   \n",
       "deg_50C                  -0.017154         -0.015037         -0.014212   \n",
       "...                            ...               ...               ...   \n",
       "bpps_63_sqrd_std         -0.006883          1.000000         -0.006223   \n",
       "bpps_64_sqrd_std         -0.006226         -0.006223          1.000000   \n",
       "bpps_65_sqrd_std         -0.006310         -0.006113         -0.006084   \n",
       "bpps_66_sqrd_std         -0.005459         -0.005761         -0.005165   \n",
       "bpps_67_sqrd_std         -0.004634         -0.004147         -0.004363   \n",
       "\n",
       "                  bpps_65_sqrd_std  bpps_66_sqrd_std  bpps_67_sqrd_std  \n",
       "reactivity               -0.024929         -0.024568         -0.020635  \n",
       "deg_Mg_pH10              -0.021070         -0.013263         -0.008900  \n",
       "deg_pH10                 -0.008628         -0.004387         -0.004606  \n",
       "deg_Mg_50C               -0.020236         -0.010736         -0.010491  \n",
       "deg_50C                  -0.012406         -0.006550         -0.006827  \n",
       "...                            ...               ...               ...  \n",
       "bpps_63_sqrd_std         -0.006113         -0.005761         -0.004147  \n",
       "bpps_64_sqrd_std         -0.006084         -0.005165         -0.004363  \n",
       "bpps_65_sqrd_std          1.000000         -0.005165         -0.003753  \n",
       "bpps_66_sqrd_std         -0.005165          1.000000         -0.003768  \n",
       "bpps_67_sqrd_std         -0.003753         -0.003768          1.000000  \n",
       "\n",
       "[74 rows x 74 columns]"
      ]
     },
     "execution_count": 25,
     "metadata": {},
     "output_type": "execute_result"
    }
   ],
   "source": [
    "corr_matrix = seqn_train_df_sqrd.corr()\n",
    "#corr_matrix[['reactivity_sqrd_std', 'deg_Mg_pH10_sqrd_std', 'deg_pH10_sqrd_std', 'deg_Mg_50C_sqrd_std', 'deg_50C_sqrd_std']]\n",
    "corr_matrix"
   ]
  },
  {
   "cell_type": "markdown",
   "id": "ee4f1193",
   "metadata": {
    "execution": {
     "iopub.execute_input": "2023-01-23T11:37:15.910525Z",
     "iopub.status.busy": "2023-01-23T11:37:15.909967Z",
     "iopub.status.idle": "2023-01-23T11:37:15.922733Z",
     "shell.execute_reply": "2023-01-23T11:37:15.920471Z",
     "shell.execute_reply.started": "2023-01-23T11:37:15.910477Z"
    },
    "papermill": {
     "duration": 0.021284,
     "end_time": "2023-01-26T17:32:05.173978",
     "exception": false,
     "start_time": "2023-01-26T17:32:05.152694",
     "status": "completed"
    },
    "tags": []
   },
   "source": [
    "### From above its quite clear that none of the default features available with the data frame have very high linear correlations. However the charts shows non-linear correlations, hence progressing further"
   ]
  },
  {
   "cell_type": "markdown",
   "id": "45649d07",
   "metadata": {
    "papermill": {
     "duration": 0.021145,
     "end_time": "2023-01-26T17:32:05.216873",
     "exception": false,
     "start_time": "2023-01-26T17:32:05.195728",
     "status": "completed"
    },
    "tags": []
   },
   "source": [
    "### inversing the bpps column entries"
   ]
  },
  {
   "cell_type": "code",
   "execution_count": 26,
   "id": "945b671f",
   "metadata": {
    "execution": {
     "iopub.execute_input": "2023-01-26T17:32:05.261675Z",
     "iopub.status.busy": "2023-01-26T17:32:05.261306Z",
     "iopub.status.idle": "2023-01-26T17:32:05.632736Z",
     "shell.execute_reply": "2023-01-26T17:32:05.630436Z"
    },
    "papermill": {
     "duration": 0.397525,
     "end_time": "2023-01-26T17:32:05.635755",
     "exception": false,
     "start_time": "2023-01-26T17:32:05.238230",
     "status": "completed"
    },
    "tags": []
   },
   "outputs": [
    {
     "name": "stdout",
     "output_type": "stream",
     "text": [
      "(130560, 77)\n",
      "(32640, 77)\n",
      "(247112, 72)\n"
     ]
    }
   ],
   "source": [
    "colms_for_std = []\n",
    "\n",
    "for i in range(68):\n",
    "    colms_for_std.append(\"_\".join(['bpps',str(i),'sqrd_std']))\n",
    "\n",
    "for i in range(len(colms_for_std)):\n",
    "    col_name = colms_for_std[i]\n",
    "    col_name_std = \"_\".join([col_name, 'inv'])\n",
    "    seqn_train_df_sqrd[col_name_std] = 1/seqn_train_df_sqrd[col_name]\n",
    "    seqn_test_df_sqrd[col_name_std] = 1/seqn_test_df_sqrd[col_name]\n",
    "    seqn_eval_df_sqrd[col_name_std] = 1/seqn_eval_df_sqrd[col_name]\n",
    "\n",
    "seqn_train_df_sqrd.drop(colms_for_std, axis=1, inplace=True)\n",
    "print(seqn_train_df_sqrd.shape)\n",
    "\n",
    "seqn_test_df_sqrd.drop(colms_for_std, axis=1, inplace=True)\n",
    "print(seqn_test_df_sqrd.shape)\n",
    "\n",
    "seqn_eval_df_sqrd.drop(colms_for_std, axis=1, inplace=True)\n",
    "print(seqn_eval_df_sqrd.shape)"
   ]
  },
  {
   "cell_type": "code",
   "execution_count": 27,
   "id": "903fad12",
   "metadata": {
    "execution": {
     "iopub.execute_input": "2023-01-26T17:32:05.680081Z",
     "iopub.status.busy": "2023-01-26T17:32:05.679746Z",
     "iopub.status.idle": "2023-01-26T17:32:07.194552Z",
     "shell.execute_reply": "2023-01-26T17:32:07.193109Z"
    },
    "papermill": {
     "duration": 1.539687,
     "end_time": "2023-01-26T17:32:07.196605",
     "exception": false,
     "start_time": "2023-01-26T17:32:05.656918",
     "status": "completed"
    },
    "tags": []
   },
   "outputs": [
    {
     "data": {
      "text/html": [
       "<div>\n",
       "<style scoped>\n",
       "    .dataframe tbody tr th:only-of-type {\n",
       "        vertical-align: middle;\n",
       "    }\n",
       "\n",
       "    .dataframe tbody tr th {\n",
       "        vertical-align: top;\n",
       "    }\n",
       "\n",
       "    .dataframe thead th {\n",
       "        text-align: right;\n",
       "    }\n",
       "</style>\n",
       "<table border=\"1\" class=\"dataframe\">\n",
       "  <thead>\n",
       "    <tr style=\"text-align: right;\">\n",
       "      <th></th>\n",
       "      <th>reactivity</th>\n",
       "      <th>deg_Mg_pH10</th>\n",
       "      <th>deg_pH10</th>\n",
       "      <th>deg_Mg_50C</th>\n",
       "      <th>deg_50C</th>\n",
       "      <th>paired_or_unpaired</th>\n",
       "      <th>bpps_0_sqrd_std_inv</th>\n",
       "      <th>bpps_1_sqrd_std_inv</th>\n",
       "      <th>bpps_2_sqrd_std_inv</th>\n",
       "      <th>bpps_3_sqrd_std_inv</th>\n",
       "      <th>...</th>\n",
       "      <th>bpps_58_sqrd_std_inv</th>\n",
       "      <th>bpps_59_sqrd_std_inv</th>\n",
       "      <th>bpps_60_sqrd_std_inv</th>\n",
       "      <th>bpps_61_sqrd_std_inv</th>\n",
       "      <th>bpps_62_sqrd_std_inv</th>\n",
       "      <th>bpps_63_sqrd_std_inv</th>\n",
       "      <th>bpps_64_sqrd_std_inv</th>\n",
       "      <th>bpps_65_sqrd_std_inv</th>\n",
       "      <th>bpps_66_sqrd_std_inv</th>\n",
       "      <th>bpps_67_sqrd_std_inv</th>\n",
       "    </tr>\n",
       "  </thead>\n",
       "  <tbody>\n",
       "    <tr>\n",
       "      <th>reactivity</th>\n",
       "      <td>1.000000</td>\n",
       "      <td>0.468421</td>\n",
       "      <td>0.423882</td>\n",
       "      <td>0.497447</td>\n",
       "      <td>0.452006</td>\n",
       "      <td>-0.265098</td>\n",
       "      <td>-0.002173</td>\n",
       "      <td>-0.000377</td>\n",
       "      <td>5.030437e-04</td>\n",
       "      <td>-0.002055</td>\n",
       "      <td>...</td>\n",
       "      <td>-0.002173</td>\n",
       "      <td>-0.001731</td>\n",
       "      <td>-0.001870</td>\n",
       "      <td>-0.001243</td>\n",
       "      <td>-0.003681</td>\n",
       "      <td>-0.003892</td>\n",
       "      <td>0.000148</td>\n",
       "      <td>-0.000901</td>\n",
       "      <td>-0.000155</td>\n",
       "      <td>-0.000045</td>\n",
       "    </tr>\n",
       "    <tr>\n",
       "      <th>deg_Mg_pH10</th>\n",
       "      <td>0.468421</td>\n",
       "      <td>1.000000</td>\n",
       "      <td>0.440746</td>\n",
       "      <td>0.558036</td>\n",
       "      <td>0.416830</td>\n",
       "      <td>-0.185540</td>\n",
       "      <td>-0.001553</td>\n",
       "      <td>0.002170</td>\n",
       "      <td>4.652024e-04</td>\n",
       "      <td>-0.004283</td>\n",
       "      <td>...</td>\n",
       "      <td>-0.000279</td>\n",
       "      <td>0.000273</td>\n",
       "      <td>-0.002915</td>\n",
       "      <td>0.000114</td>\n",
       "      <td>-0.003657</td>\n",
       "      <td>-0.002458</td>\n",
       "      <td>0.000655</td>\n",
       "      <td>-0.000976</td>\n",
       "      <td>0.002175</td>\n",
       "      <td>0.000167</td>\n",
       "    </tr>\n",
       "    <tr>\n",
       "      <th>deg_pH10</th>\n",
       "      <td>0.423882</td>\n",
       "      <td>0.440746</td>\n",
       "      <td>1.000000</td>\n",
       "      <td>0.503934</td>\n",
       "      <td>0.469819</td>\n",
       "      <td>-0.132159</td>\n",
       "      <td>-0.000301</td>\n",
       "      <td>0.002191</td>\n",
       "      <td>-1.454322e-04</td>\n",
       "      <td>-0.000684</td>\n",
       "      <td>...</td>\n",
       "      <td>-0.000552</td>\n",
       "      <td>0.000976</td>\n",
       "      <td>-0.001120</td>\n",
       "      <td>0.000243</td>\n",
       "      <td>-0.002055</td>\n",
       "      <td>-0.001388</td>\n",
       "      <td>0.000420</td>\n",
       "      <td>-0.001418</td>\n",
       "      <td>0.000818</td>\n",
       "      <td>-0.000391</td>\n",
       "    </tr>\n",
       "    <tr>\n",
       "      <th>deg_Mg_50C</th>\n",
       "      <td>0.497447</td>\n",
       "      <td>0.558036</td>\n",
       "      <td>0.503934</td>\n",
       "      <td>1.000000</td>\n",
       "      <td>0.492834</td>\n",
       "      <td>-0.187452</td>\n",
       "      <td>-0.001244</td>\n",
       "      <td>0.002631</td>\n",
       "      <td>4.102105e-04</td>\n",
       "      <td>-0.002509</td>\n",
       "      <td>...</td>\n",
       "      <td>-0.000633</td>\n",
       "      <td>-0.000153</td>\n",
       "      <td>-0.002275</td>\n",
       "      <td>0.000208</td>\n",
       "      <td>-0.002537</td>\n",
       "      <td>0.001421</td>\n",
       "      <td>0.000268</td>\n",
       "      <td>-0.001254</td>\n",
       "      <td>0.002226</td>\n",
       "      <td>-0.000740</td>\n",
       "    </tr>\n",
       "    <tr>\n",
       "      <th>deg_50C</th>\n",
       "      <td>0.452006</td>\n",
       "      <td>0.416830</td>\n",
       "      <td>0.469819</td>\n",
       "      <td>0.492834</td>\n",
       "      <td>1.000000</td>\n",
       "      <td>-0.133403</td>\n",
       "      <td>-0.000882</td>\n",
       "      <td>0.002676</td>\n",
       "      <td>-5.475177e-05</td>\n",
       "      <td>-0.000503</td>\n",
       "      <td>...</td>\n",
       "      <td>-0.000070</td>\n",
       "      <td>0.000626</td>\n",
       "      <td>-0.001868</td>\n",
       "      <td>0.000386</td>\n",
       "      <td>-0.001805</td>\n",
       "      <td>0.000477</td>\n",
       "      <td>0.000385</td>\n",
       "      <td>-0.001130</td>\n",
       "      <td>-0.000561</td>\n",
       "      <td>-0.000050</td>\n",
       "    </tr>\n",
       "    <tr>\n",
       "      <th>...</th>\n",
       "      <td>...</td>\n",
       "      <td>...</td>\n",
       "      <td>...</td>\n",
       "      <td>...</td>\n",
       "      <td>...</td>\n",
       "      <td>...</td>\n",
       "      <td>...</td>\n",
       "      <td>...</td>\n",
       "      <td>...</td>\n",
       "      <td>...</td>\n",
       "      <td>...</td>\n",
       "      <td>...</td>\n",
       "      <td>...</td>\n",
       "      <td>...</td>\n",
       "      <td>...</td>\n",
       "      <td>...</td>\n",
       "      <td>...</td>\n",
       "      <td>...</td>\n",
       "      <td>...</td>\n",
       "      <td>...</td>\n",
       "      <td>...</td>\n",
       "    </tr>\n",
       "    <tr>\n",
       "      <th>bpps_63_sqrd_std_inv</th>\n",
       "      <td>-0.003892</td>\n",
       "      <td>-0.002458</td>\n",
       "      <td>-0.001388</td>\n",
       "      <td>0.001421</td>\n",
       "      <td>0.000477</td>\n",
       "      <td>0.015937</td>\n",
       "      <td>0.000098</td>\n",
       "      <td>-0.000064</td>\n",
       "      <td>7.957314e-05</td>\n",
       "      <td>-0.000154</td>\n",
       "      <td>...</td>\n",
       "      <td>0.000027</td>\n",
       "      <td>-0.001090</td>\n",
       "      <td>-0.000166</td>\n",
       "      <td>0.000698</td>\n",
       "      <td>0.000284</td>\n",
       "      <td>1.000000</td>\n",
       "      <td>0.000001</td>\n",
       "      <td>-0.000081</td>\n",
       "      <td>0.000621</td>\n",
       "      <td>0.004594</td>\n",
       "    </tr>\n",
       "    <tr>\n",
       "      <th>bpps_64_sqrd_std_inv</th>\n",
       "      <td>0.000148</td>\n",
       "      <td>0.000655</td>\n",
       "      <td>0.000420</td>\n",
       "      <td>0.000268</td>\n",
       "      <td>0.000385</td>\n",
       "      <td>0.003641</td>\n",
       "      <td>-0.000018</td>\n",
       "      <td>-0.000001</td>\n",
       "      <td>6.675497e-07</td>\n",
       "      <td>0.000200</td>\n",
       "      <td>...</td>\n",
       "      <td>-0.000019</td>\n",
       "      <td>0.000066</td>\n",
       "      <td>0.000105</td>\n",
       "      <td>-0.000435</td>\n",
       "      <td>-0.000161</td>\n",
       "      <td>0.000001</td>\n",
       "      <td>1.000000</td>\n",
       "      <td>-0.000364</td>\n",
       "      <td>0.000123</td>\n",
       "      <td>0.000091</td>\n",
       "    </tr>\n",
       "    <tr>\n",
       "      <th>bpps_65_sqrd_std_inv</th>\n",
       "      <td>-0.000901</td>\n",
       "      <td>-0.000976</td>\n",
       "      <td>-0.001418</td>\n",
       "      <td>-0.001254</td>\n",
       "      <td>-0.001130</td>\n",
       "      <td>0.001389</td>\n",
       "      <td>0.000023</td>\n",
       "      <td>0.000007</td>\n",
       "      <td>-6.590873e-06</td>\n",
       "      <td>0.000017</td>\n",
       "      <td>...</td>\n",
       "      <td>-0.000021</td>\n",
       "      <td>-0.000010</td>\n",
       "      <td>0.000058</td>\n",
       "      <td>-0.000021</td>\n",
       "      <td>0.000286</td>\n",
       "      <td>-0.000081</td>\n",
       "      <td>-0.000364</td>\n",
       "      <td>1.000000</td>\n",
       "      <td>0.000216</td>\n",
       "      <td>-0.000303</td>\n",
       "    </tr>\n",
       "    <tr>\n",
       "      <th>bpps_66_sqrd_std_inv</th>\n",
       "      <td>-0.000155</td>\n",
       "      <td>0.002175</td>\n",
       "      <td>0.000818</td>\n",
       "      <td>0.002226</td>\n",
       "      <td>-0.000561</td>\n",
       "      <td>0.007211</td>\n",
       "      <td>0.000195</td>\n",
       "      <td>0.000014</td>\n",
       "      <td>2.803189e-05</td>\n",
       "      <td>-0.001476</td>\n",
       "      <td>...</td>\n",
       "      <td>0.000135</td>\n",
       "      <td>0.000253</td>\n",
       "      <td>-0.001059</td>\n",
       "      <td>-0.000100</td>\n",
       "      <td>-0.001745</td>\n",
       "      <td>0.000621</td>\n",
       "      <td>0.000123</td>\n",
       "      <td>0.000216</td>\n",
       "      <td>1.000000</td>\n",
       "      <td>0.002059</td>\n",
       "    </tr>\n",
       "    <tr>\n",
       "      <th>bpps_67_sqrd_std_inv</th>\n",
       "      <td>-0.000045</td>\n",
       "      <td>0.000167</td>\n",
       "      <td>-0.000391</td>\n",
       "      <td>-0.000740</td>\n",
       "      <td>-0.000050</td>\n",
       "      <td>-0.000276</td>\n",
       "      <td>-0.000151</td>\n",
       "      <td>-0.000318</td>\n",
       "      <td>4.999507e-06</td>\n",
       "      <td>0.001036</td>\n",
       "      <td>...</td>\n",
       "      <td>-0.000013</td>\n",
       "      <td>0.000277</td>\n",
       "      <td>0.001580</td>\n",
       "      <td>0.000205</td>\n",
       "      <td>-0.004835</td>\n",
       "      <td>0.004594</td>\n",
       "      <td>0.000091</td>\n",
       "      <td>-0.000303</td>\n",
       "      <td>0.002059</td>\n",
       "      <td>1.000000</td>\n",
       "    </tr>\n",
       "  </tbody>\n",
       "</table>\n",
       "<p>74 rows × 74 columns</p>\n",
       "</div>"
      ],
      "text/plain": [
       "                      reactivity  deg_Mg_pH10  deg_pH10  deg_Mg_50C   deg_50C  \\\n",
       "reactivity              1.000000     0.468421  0.423882    0.497447  0.452006   \n",
       "deg_Mg_pH10             0.468421     1.000000  0.440746    0.558036  0.416830   \n",
       "deg_pH10                0.423882     0.440746  1.000000    0.503934  0.469819   \n",
       "deg_Mg_50C              0.497447     0.558036  0.503934    1.000000  0.492834   \n",
       "deg_50C                 0.452006     0.416830  0.469819    0.492834  1.000000   \n",
       "...                          ...          ...       ...         ...       ...   \n",
       "bpps_63_sqrd_std_inv   -0.003892    -0.002458 -0.001388    0.001421  0.000477   \n",
       "bpps_64_sqrd_std_inv    0.000148     0.000655  0.000420    0.000268  0.000385   \n",
       "bpps_65_sqrd_std_inv   -0.000901    -0.000976 -0.001418   -0.001254 -0.001130   \n",
       "bpps_66_sqrd_std_inv   -0.000155     0.002175  0.000818    0.002226 -0.000561   \n",
       "bpps_67_sqrd_std_inv   -0.000045     0.000167 -0.000391   -0.000740 -0.000050   \n",
       "\n",
       "                      paired_or_unpaired  bpps_0_sqrd_std_inv  \\\n",
       "reactivity                     -0.265098            -0.002173   \n",
       "deg_Mg_pH10                    -0.185540            -0.001553   \n",
       "deg_pH10                       -0.132159            -0.000301   \n",
       "deg_Mg_50C                     -0.187452            -0.001244   \n",
       "deg_50C                        -0.133403            -0.000882   \n",
       "...                                  ...                  ...   \n",
       "bpps_63_sqrd_std_inv            0.015937             0.000098   \n",
       "bpps_64_sqrd_std_inv            0.003641            -0.000018   \n",
       "bpps_65_sqrd_std_inv            0.001389             0.000023   \n",
       "bpps_66_sqrd_std_inv            0.007211             0.000195   \n",
       "bpps_67_sqrd_std_inv           -0.000276            -0.000151   \n",
       "\n",
       "                      bpps_1_sqrd_std_inv  bpps_2_sqrd_std_inv  \\\n",
       "reactivity                      -0.000377         5.030437e-04   \n",
       "deg_Mg_pH10                      0.002170         4.652024e-04   \n",
       "deg_pH10                         0.002191        -1.454322e-04   \n",
       "deg_Mg_50C                       0.002631         4.102105e-04   \n",
       "deg_50C                          0.002676        -5.475177e-05   \n",
       "...                                   ...                  ...   \n",
       "bpps_63_sqrd_std_inv            -0.000064         7.957314e-05   \n",
       "bpps_64_sqrd_std_inv            -0.000001         6.675497e-07   \n",
       "bpps_65_sqrd_std_inv             0.000007        -6.590873e-06   \n",
       "bpps_66_sqrd_std_inv             0.000014         2.803189e-05   \n",
       "bpps_67_sqrd_std_inv            -0.000318         4.999507e-06   \n",
       "\n",
       "                      bpps_3_sqrd_std_inv  ...  bpps_58_sqrd_std_inv  \\\n",
       "reactivity                      -0.002055  ...             -0.002173   \n",
       "deg_Mg_pH10                     -0.004283  ...             -0.000279   \n",
       "deg_pH10                        -0.000684  ...             -0.000552   \n",
       "deg_Mg_50C                      -0.002509  ...             -0.000633   \n",
       "deg_50C                         -0.000503  ...             -0.000070   \n",
       "...                                   ...  ...                   ...   \n",
       "bpps_63_sqrd_std_inv            -0.000154  ...              0.000027   \n",
       "bpps_64_sqrd_std_inv             0.000200  ...             -0.000019   \n",
       "bpps_65_sqrd_std_inv             0.000017  ...             -0.000021   \n",
       "bpps_66_sqrd_std_inv            -0.001476  ...              0.000135   \n",
       "bpps_67_sqrd_std_inv             0.001036  ...             -0.000013   \n",
       "\n",
       "                      bpps_59_sqrd_std_inv  bpps_60_sqrd_std_inv  \\\n",
       "reactivity                       -0.001731             -0.001870   \n",
       "deg_Mg_pH10                       0.000273             -0.002915   \n",
       "deg_pH10                          0.000976             -0.001120   \n",
       "deg_Mg_50C                       -0.000153             -0.002275   \n",
       "deg_50C                           0.000626             -0.001868   \n",
       "...                                    ...                   ...   \n",
       "bpps_63_sqrd_std_inv             -0.001090             -0.000166   \n",
       "bpps_64_sqrd_std_inv              0.000066              0.000105   \n",
       "bpps_65_sqrd_std_inv             -0.000010              0.000058   \n",
       "bpps_66_sqrd_std_inv              0.000253             -0.001059   \n",
       "bpps_67_sqrd_std_inv              0.000277              0.001580   \n",
       "\n",
       "                      bpps_61_sqrd_std_inv  bpps_62_sqrd_std_inv  \\\n",
       "reactivity                       -0.001243             -0.003681   \n",
       "deg_Mg_pH10                       0.000114             -0.003657   \n",
       "deg_pH10                          0.000243             -0.002055   \n",
       "deg_Mg_50C                        0.000208             -0.002537   \n",
       "deg_50C                           0.000386             -0.001805   \n",
       "...                                    ...                   ...   \n",
       "bpps_63_sqrd_std_inv              0.000698              0.000284   \n",
       "bpps_64_sqrd_std_inv             -0.000435             -0.000161   \n",
       "bpps_65_sqrd_std_inv             -0.000021              0.000286   \n",
       "bpps_66_sqrd_std_inv             -0.000100             -0.001745   \n",
       "bpps_67_sqrd_std_inv              0.000205             -0.004835   \n",
       "\n",
       "                      bpps_63_sqrd_std_inv  bpps_64_sqrd_std_inv  \\\n",
       "reactivity                       -0.003892              0.000148   \n",
       "deg_Mg_pH10                      -0.002458              0.000655   \n",
       "deg_pH10                         -0.001388              0.000420   \n",
       "deg_Mg_50C                        0.001421              0.000268   \n",
       "deg_50C                           0.000477              0.000385   \n",
       "...                                    ...                   ...   \n",
       "bpps_63_sqrd_std_inv              1.000000              0.000001   \n",
       "bpps_64_sqrd_std_inv              0.000001              1.000000   \n",
       "bpps_65_sqrd_std_inv             -0.000081             -0.000364   \n",
       "bpps_66_sqrd_std_inv              0.000621              0.000123   \n",
       "bpps_67_sqrd_std_inv              0.004594              0.000091   \n",
       "\n",
       "                      bpps_65_sqrd_std_inv  bpps_66_sqrd_std_inv  \\\n",
       "reactivity                       -0.000901             -0.000155   \n",
       "deg_Mg_pH10                      -0.000976              0.002175   \n",
       "deg_pH10                         -0.001418              0.000818   \n",
       "deg_Mg_50C                       -0.001254              0.002226   \n",
       "deg_50C                          -0.001130             -0.000561   \n",
       "...                                    ...                   ...   \n",
       "bpps_63_sqrd_std_inv             -0.000081              0.000621   \n",
       "bpps_64_sqrd_std_inv             -0.000364              0.000123   \n",
       "bpps_65_sqrd_std_inv              1.000000              0.000216   \n",
       "bpps_66_sqrd_std_inv              0.000216              1.000000   \n",
       "bpps_67_sqrd_std_inv             -0.000303              0.002059   \n",
       "\n",
       "                      bpps_67_sqrd_std_inv  \n",
       "reactivity                       -0.000045  \n",
       "deg_Mg_pH10                       0.000167  \n",
       "deg_pH10                         -0.000391  \n",
       "deg_Mg_50C                       -0.000740  \n",
       "deg_50C                          -0.000050  \n",
       "...                                    ...  \n",
       "bpps_63_sqrd_std_inv              0.004594  \n",
       "bpps_64_sqrd_std_inv              0.000091  \n",
       "bpps_65_sqrd_std_inv             -0.000303  \n",
       "bpps_66_sqrd_std_inv              0.002059  \n",
       "bpps_67_sqrd_std_inv              1.000000  \n",
       "\n",
       "[74 rows x 74 columns]"
      ]
     },
     "execution_count": 27,
     "metadata": {},
     "output_type": "execute_result"
    }
   ],
   "source": [
    "corr_matrix = seqn_train_df_sqrd.corr()\n",
    "corr_matrix"
   ]
  },
  {
   "cell_type": "markdown",
   "id": "3d235fe3",
   "metadata": {
    "papermill": {
     "duration": 0.021968,
     "end_time": "2023-01-26T17:32:07.241982",
     "exception": false,
     "start_time": "2023-01-26T17:32:07.220014",
     "status": "completed"
    },
    "tags": []
   },
   "source": [
    "### separating out the features and labels and then will try out some combinations to see if we can improve the correlations"
   ]
  },
  {
   "cell_type": "code",
   "execution_count": 28,
   "id": "c6981b8a",
   "metadata": {
    "execution": {
     "iopub.execute_input": "2023-01-26T17:32:07.291775Z",
     "iopub.status.busy": "2023-01-26T17:32:07.291399Z",
     "iopub.status.idle": "2023-01-26T17:32:07.347799Z",
     "shell.execute_reply": "2023-01-26T17:32:07.346461Z"
    },
    "papermill": {
     "duration": 0.085003,
     "end_time": "2023-01-26T17:32:07.350362",
     "exception": false,
     "start_time": "2023-01-26T17:32:07.265359",
     "status": "completed"
    },
    "tags": []
   },
   "outputs": [],
   "source": [
    "seqn_train_df_sqrd_labels = seqn_train_df_sqrd[['reactivity', 'deg_Mg_pH10', 'deg_pH10', 'deg_Mg_50C', 'deg_50C']]\n",
    "seqn_test_df_sqrd_labels = seqn_test_df_sqrd[['reactivity', 'deg_Mg_pH10', 'deg_pH10', 'deg_Mg_50C', 'deg_50C']]\n",
    "feature_colums = ['sequence', 'predicted_loop_type', 'paired_or_unpaired']\n",
    "for i in range(68):\n",
    "    feature_colums.append(\"_\".join(['bpps',str(i),'sqrd_std_inv']))\n",
    "\n",
    "seqn_train_df_sqrd_features = seqn_train_df_sqrd[feature_colums]\n",
    "seqn_test_df_sqrd_features = seqn_test_df_sqrd[feature_colums]\n",
    "seqn_eval_df_sqrd_features = seqn_eval_df_sqrd[feature_colums]"
   ]
  },
  {
   "cell_type": "markdown",
   "id": "4b344534",
   "metadata": {
    "papermill": {
     "duration": 0.023365,
     "end_time": "2023-01-26T17:32:07.396034",
     "exception": false,
     "start_time": "2023-01-26T17:32:07.372669",
     "status": "completed"
    },
    "tags": []
   },
   "source": [
    "### First lets try building a model using available features as-is"
   ]
  },
  {
   "cell_type": "code",
   "execution_count": 29,
   "id": "e298621c",
   "metadata": {
    "execution": {
     "iopub.execute_input": "2023-01-26T17:32:07.444343Z",
     "iopub.status.busy": "2023-01-26T17:32:07.443990Z",
     "iopub.status.idle": "2023-01-26T17:32:07.641198Z",
     "shell.execute_reply": "2023-01-26T17:32:07.639824Z"
    },
    "papermill": {
     "duration": 0.223736,
     "end_time": "2023-01-26T17:32:07.643537",
     "exception": false,
     "start_time": "2023-01-26T17:32:07.419801",
     "status": "completed"
    },
    "tags": []
   },
   "outputs": [],
   "source": [
    "polynomial_pipeline = Pipeline([('poly',PolynomialFeatures(degree=1, include_bias=False))])\n",
    "\n",
    "categorical_attributes = ['sequence','predicted_loop_type']\n",
    "numeric_atributes = ['paired_or_unpaired']\n",
    "\n",
    "for i in range(68):\n",
    "    numeric_atributes.append(\"_\".join(['bpps',str(i),'sqrd_std_inv']))\n",
    "\n",
    "modelling_pipeline = ColumnTransformer([\n",
    "    (\"categorical_attributes\", OneHotEncoder(), categorical_attributes),\n",
    "    (\"numeric_atributes\", polynomial_pipeline, numeric_atributes)\n",
    "])\n",
    "\n",
    "seqn_train_df_prepared = modelling_pipeline.fit_transform(seqn_train_df_sqrd_features)"
   ]
  },
  {
   "cell_type": "code",
   "execution_count": 30,
   "id": "7279aaee",
   "metadata": {
    "execution": {
     "iopub.execute_input": "2023-01-26T17:32:07.690525Z",
     "iopub.status.busy": "2023-01-26T17:32:07.690171Z",
     "iopub.status.idle": "2023-01-26T17:32:08.056955Z",
     "shell.execute_reply": "2023-01-26T17:32:08.055392Z"
    },
    "papermill": {
     "duration": 0.393344,
     "end_time": "2023-01-26T17:32:08.059561",
     "exception": false,
     "start_time": "2023-01-26T17:32:07.666217",
     "status": "completed"
    },
    "tags": []
   },
   "outputs": [],
   "source": [
    "seqn_test_df_prepared = modelling_pipeline.fit_transform(seqn_test_df_sqrd_features)\n",
    "seqn_eval_df_prepared = modelling_pipeline.fit_transform(seqn_eval_df_sqrd_features)"
   ]
  },
  {
   "cell_type": "code",
   "execution_count": 31,
   "id": "98292a6a",
   "metadata": {
    "execution": {
     "iopub.execute_input": "2023-01-26T17:32:08.107729Z",
     "iopub.status.busy": "2023-01-26T17:32:08.107344Z",
     "iopub.status.idle": "2023-01-26T17:32:08.113906Z",
     "shell.execute_reply": "2023-01-26T17:32:08.112487Z"
    },
    "papermill": {
     "duration": 0.032932,
     "end_time": "2023-01-26T17:32:08.116030",
     "exception": false,
     "start_time": "2023-01-26T17:32:08.083098",
     "status": "completed"
    },
    "tags": []
   },
   "outputs": [
    {
     "name": "stdout",
     "output_type": "stream",
     "text": [
      "(130560, 80)\n",
      "(130560, 71)\n",
      "(32640, 71)\n",
      "(247112, 71)\n"
     ]
    }
   ],
   "source": [
    "print(seqn_train_df_prepared.shape)\n",
    "print(seqn_train_df_sqrd_features.shape)\n",
    "print(seqn_test_df_sqrd_features.shape)\n",
    "print(seqn_eval_df_sqrd_features.shape)"
   ]
  },
  {
   "cell_type": "code",
   "execution_count": 32,
   "id": "69beea2a",
   "metadata": {
    "execution": {
     "iopub.execute_input": "2023-01-26T17:32:08.162815Z",
     "iopub.status.busy": "2023-01-26T17:32:08.161378Z",
     "iopub.status.idle": "2023-01-26T17:32:08.707856Z",
     "shell.execute_reply": "2023-01-26T17:32:08.707051Z"
    },
    "papermill": {
     "duration": 0.571486,
     "end_time": "2023-01-26T17:32:08.709955",
     "exception": false,
     "start_time": "2023-01-26T17:32:08.138469",
     "status": "completed"
    },
    "tags": []
   },
   "outputs": [
    {
     "data": {
      "text/plain": [
       "LinearRegression()"
      ]
     },
     "execution_count": 32,
     "metadata": {},
     "output_type": "execute_result"
    }
   ],
   "source": [
    "from sklearn.linear_model import LinearRegression\n",
    "\n",
    "poly_reg_model = LinearRegression()\n",
    "poly_reg_model.fit(seqn_train_df_prepared, seqn_train_df_sqrd_labels)"
   ]
  },
  {
   "cell_type": "markdown",
   "id": "1ae2784c",
   "metadata": {
    "papermill": {
     "duration": 0.034561,
     "end_time": "2023-01-26T17:32:08.777192",
     "exception": false,
     "start_time": "2023-01-26T17:32:08.742631",
     "status": "completed"
    },
    "tags": []
   },
   "source": [
    "### Testing the RMSE\n",
    "#### RMSE <= 0.75 : Very good accuracy\n",
    "#### 0.75 < RMSE <= 1.0 : Good accuracy"
   ]
  },
  {
   "cell_type": "markdown",
   "id": "ba7fc69e",
   "metadata": {
    "papermill": {
     "duration": 0.025767,
     "end_time": "2023-01-26T17:32:08.836947",
     "exception": false,
     "start_time": "2023-01-26T17:32:08.811180",
     "status": "completed"
    },
    "tags": []
   },
   "source": [
    "### Lets investigate the RMSE"
   ]
  },
  {
   "cell_type": "code",
   "execution_count": 33,
   "id": "abab1403",
   "metadata": {
    "execution": {
     "iopub.execute_input": "2023-01-26T17:32:08.886398Z",
     "iopub.status.busy": "2023-01-26T17:32:08.886035Z",
     "iopub.status.idle": "2023-01-26T17:32:08.930685Z",
     "shell.execute_reply": "2023-01-26T17:32:08.929286Z"
    },
    "papermill": {
     "duration": 0.071885,
     "end_time": "2023-01-26T17:32:08.933089",
     "exception": false,
     "start_time": "2023-01-26T17:32:08.861204",
     "status": "completed"
    },
    "tags": []
   },
   "outputs": [
    {
     "name": "stdout",
     "output_type": "stream",
     "text": [
      "0.9589117983811916\n"
     ]
    }
   ],
   "source": [
    "seqn_train_df_predictions = poly_reg_model.predict(seqn_train_df_prepared)\n",
    "mse = mean_squared_error(seqn_train_df_sqrd_labels, seqn_train_df_predictions)\n",
    "rmse = np.sqrt(mse)\n",
    "print(rmse)"
   ]
  },
  {
   "cell_type": "markdown",
   "id": "24eed254",
   "metadata": {
    "papermill": {
     "duration": 0.032178,
     "end_time": "2023-01-26T17:32:08.997881",
     "exception": false,
     "start_time": "2023-01-26T17:32:08.965703",
     "status": "completed"
    },
    "tags": []
   },
   "source": [
    "### on test data"
   ]
  },
  {
   "cell_type": "code",
   "execution_count": 34,
   "id": "7661ac2e",
   "metadata": {
    "execution": {
     "iopub.execute_input": "2023-01-26T17:32:09.056449Z",
     "iopub.status.busy": "2023-01-26T17:32:09.056138Z",
     "iopub.status.idle": "2023-01-26T17:32:09.074769Z",
     "shell.execute_reply": "2023-01-26T17:32:09.073990Z"
    },
    "papermill": {
     "duration": 0.047442,
     "end_time": "2023-01-26T17:32:09.077813",
     "exception": false,
     "start_time": "2023-01-26T17:32:09.030371",
     "status": "completed"
    },
    "tags": []
   },
   "outputs": [
    {
     "name": "stdout",
     "output_type": "stream",
     "text": [
      "0.908978810462746\n"
     ]
    }
   ],
   "source": [
    "seqn_test_df_predictions = poly_reg_model.predict(seqn_test_df_prepared)\n",
    "mse = mean_squared_error(seqn_test_df_sqrd_labels, seqn_test_df_predictions)\n",
    "rmse = np.sqrt(mse)\n",
    "print(rmse)"
   ]
  },
  {
   "cell_type": "code",
   "execution_count": 35,
   "id": "f33d7dfd",
   "metadata": {
    "execution": {
     "iopub.execute_input": "2023-01-26T17:32:09.145593Z",
     "iopub.status.busy": "2023-01-26T17:32:09.145212Z",
     "iopub.status.idle": "2023-01-26T17:32:09.194779Z",
     "shell.execute_reply": "2023-01-26T17:32:09.193896Z"
    },
    "papermill": {
     "duration": 0.086747,
     "end_time": "2023-01-26T17:32:09.197348",
     "exception": false,
     "start_time": "2023-01-26T17:32:09.110601",
     "status": "completed"
    },
    "tags": []
   },
   "outputs": [],
   "source": [
    "seqn_eval_df_predictions = pd.DataFrame(poly_reg_model.predict(seqn_eval_df_prepared),columns=['reactivity', 'deg_Mg_pH10', 'deg_pH10', 'deg_Mg_50C', 'deg_50C'])"
   ]
  },
  {
   "cell_type": "code",
   "execution_count": 36,
   "id": "c6a87efc",
   "metadata": {
    "execution": {
     "iopub.execute_input": "2023-01-26T17:32:09.264641Z",
     "iopub.status.busy": "2023-01-26T17:32:09.264244Z",
     "iopub.status.idle": "2023-01-26T17:32:09.272629Z",
     "shell.execute_reply": "2023-01-26T17:32:09.271829Z"
    },
    "papermill": {
     "duration": 0.044317,
     "end_time": "2023-01-26T17:32:09.274591",
     "exception": false,
     "start_time": "2023-01-26T17:32:09.230274",
     "status": "completed"
    },
    "tags": []
   },
   "outputs": [],
   "source": [
    "seqn_eval_df_predictions['id_seqpos'] = seqn_eval_df_sqrd['id_base']"
   ]
  },
  {
   "cell_type": "code",
   "execution_count": 37,
   "id": "b7627e17",
   "metadata": {
    "execution": {
     "iopub.execute_input": "2023-01-26T17:32:09.331826Z",
     "iopub.status.busy": "2023-01-26T17:32:09.331112Z",
     "iopub.status.idle": "2023-01-26T17:32:09.345534Z",
     "shell.execute_reply": "2023-01-26T17:32:09.344216Z"
    },
    "papermill": {
     "duration": 0.041138,
     "end_time": "2023-01-26T17:32:09.347871",
     "exception": false,
     "start_time": "2023-01-26T17:32:09.306733",
     "status": "completed"
    },
    "tags": []
   },
   "outputs": [
    {
     "data": {
      "text/html": [
       "<div>\n",
       "<style scoped>\n",
       "    .dataframe tbody tr th:only-of-type {\n",
       "        vertical-align: middle;\n",
       "    }\n",
       "\n",
       "    .dataframe tbody tr th {\n",
       "        vertical-align: top;\n",
       "    }\n",
       "\n",
       "    .dataframe thead th {\n",
       "        text-align: right;\n",
       "    }\n",
       "</style>\n",
       "<table border=\"1\" class=\"dataframe\">\n",
       "  <thead>\n",
       "    <tr style=\"text-align: right;\">\n",
       "      <th></th>\n",
       "      <th>reactivity</th>\n",
       "      <th>deg_Mg_pH10</th>\n",
       "      <th>deg_pH10</th>\n",
       "      <th>deg_Mg_50C</th>\n",
       "      <th>deg_50C</th>\n",
       "      <th>id_seqpos</th>\n",
       "    </tr>\n",
       "  </thead>\n",
       "  <tbody>\n",
       "    <tr>\n",
       "      <th>0</th>\n",
       "      <td>0.590867</td>\n",
       "      <td>0.708907</td>\n",
       "      <td>1.012922</td>\n",
       "      <td>0.691743</td>\n",
       "      <td>0.706352</td>\n",
       "      <td>id_00073f8be_0</td>\n",
       "    </tr>\n",
       "    <tr>\n",
       "      <th>1</th>\n",
       "      <td>0.590872</td>\n",
       "      <td>0.708918</td>\n",
       "      <td>1.012926</td>\n",
       "      <td>0.691753</td>\n",
       "      <td>0.706350</td>\n",
       "      <td>id_00073f8be_1</td>\n",
       "    </tr>\n",
       "    <tr>\n",
       "      <th>2</th>\n",
       "      <td>0.580561</td>\n",
       "      <td>0.545989</td>\n",
       "      <td>0.719594</td>\n",
       "      <td>0.635667</td>\n",
       "      <td>0.646580</td>\n",
       "      <td>id_00073f8be_2</td>\n",
       "    </tr>\n",
       "    <tr>\n",
       "      <th>3</th>\n",
       "      <td>0.580561</td>\n",
       "      <td>0.545990</td>\n",
       "      <td>0.719594</td>\n",
       "      <td>0.635667</td>\n",
       "      <td>0.646580</td>\n",
       "      <td>id_00073f8be_3</td>\n",
       "    </tr>\n",
       "    <tr>\n",
       "      <th>4</th>\n",
       "      <td>0.580562</td>\n",
       "      <td>0.545990</td>\n",
       "      <td>0.719592</td>\n",
       "      <td>0.635668</td>\n",
       "      <td>0.646580</td>\n",
       "      <td>id_00073f8be_4</td>\n",
       "    </tr>\n",
       "    <tr>\n",
       "      <th>5</th>\n",
       "      <td>0.580662</td>\n",
       "      <td>0.545991</td>\n",
       "      <td>0.719536</td>\n",
       "      <td>0.635634</td>\n",
       "      <td>0.646515</td>\n",
       "      <td>id_00073f8be_5</td>\n",
       "    </tr>\n",
       "    <tr>\n",
       "      <th>6</th>\n",
       "      <td>0.253715</td>\n",
       "      <td>0.413818</td>\n",
       "      <td>0.426746</td>\n",
       "      <td>0.301995</td>\n",
       "      <td>0.325935</td>\n",
       "      <td>id_00073f8be_6</td>\n",
       "    </tr>\n",
       "    <tr>\n",
       "      <th>7</th>\n",
       "      <td>0.188355</td>\n",
       "      <td>0.317690</td>\n",
       "      <td>0.237717</td>\n",
       "      <td>0.229570</td>\n",
       "      <td>0.286701</td>\n",
       "      <td>id_00073f8be_7</td>\n",
       "    </tr>\n",
       "    <tr>\n",
       "      <th>8</th>\n",
       "      <td>0.241712</td>\n",
       "      <td>0.247662</td>\n",
       "      <td>0.130902</td>\n",
       "      <td>0.241720</td>\n",
       "      <td>0.266027</td>\n",
       "      <td>id_00073f8be_8</td>\n",
       "    </tr>\n",
       "    <tr>\n",
       "      <th>9</th>\n",
       "      <td>0.056408</td>\n",
       "      <td>0.252839</td>\n",
       "      <td>0.223548</td>\n",
       "      <td>0.186779</td>\n",
       "      <td>0.216804</td>\n",
       "      <td>id_00073f8be_9</td>\n",
       "    </tr>\n",
       "  </tbody>\n",
       "</table>\n",
       "</div>"
      ],
      "text/plain": [
       "   reactivity  deg_Mg_pH10  deg_pH10  deg_Mg_50C   deg_50C       id_seqpos\n",
       "0    0.590867     0.708907  1.012922    0.691743  0.706352  id_00073f8be_0\n",
       "1    0.590872     0.708918  1.012926    0.691753  0.706350  id_00073f8be_1\n",
       "2    0.580561     0.545989  0.719594    0.635667  0.646580  id_00073f8be_2\n",
       "3    0.580561     0.545990  0.719594    0.635667  0.646580  id_00073f8be_3\n",
       "4    0.580562     0.545990  0.719592    0.635668  0.646580  id_00073f8be_4\n",
       "5    0.580662     0.545991  0.719536    0.635634  0.646515  id_00073f8be_5\n",
       "6    0.253715     0.413818  0.426746    0.301995  0.325935  id_00073f8be_6\n",
       "7    0.188355     0.317690  0.237717    0.229570  0.286701  id_00073f8be_7\n",
       "8    0.241712     0.247662  0.130902    0.241720  0.266027  id_00073f8be_8\n",
       "9    0.056408     0.252839  0.223548    0.186779  0.216804  id_00073f8be_9"
      ]
     },
     "execution_count": 37,
     "metadata": {},
     "output_type": "execute_result"
    }
   ],
   "source": [
    "seqn_eval_df_predictions.head(10)"
   ]
  },
  {
   "cell_type": "code",
   "execution_count": 38,
   "id": "0c98a074",
   "metadata": {
    "execution": {
     "iopub.execute_input": "2023-01-26T17:32:09.395964Z",
     "iopub.status.busy": "2023-01-26T17:32:09.395571Z",
     "iopub.status.idle": "2023-01-26T17:32:09.418476Z",
     "shell.execute_reply": "2023-01-26T17:32:09.416821Z"
    },
    "papermill": {
     "duration": 0.049475,
     "end_time": "2023-01-26T17:32:09.420691",
     "exception": false,
     "start_time": "2023-01-26T17:32:09.371216",
     "status": "completed"
    },
    "tags": []
   },
   "outputs": [
    {
     "data": {
      "text/html": [
       "<div>\n",
       "<style scoped>\n",
       "    .dataframe tbody tr th:only-of-type {\n",
       "        vertical-align: middle;\n",
       "    }\n",
       "\n",
       "    .dataframe tbody tr th {\n",
       "        vertical-align: top;\n",
       "    }\n",
       "\n",
       "    .dataframe thead th {\n",
       "        text-align: right;\n",
       "    }\n",
       "</style>\n",
       "<table border=\"1\" class=\"dataframe\">\n",
       "  <thead>\n",
       "    <tr style=\"text-align: right;\">\n",
       "      <th></th>\n",
       "      <th>id_seqpos</th>\n",
       "      <th>reactivity</th>\n",
       "      <th>deg_Mg_pH10</th>\n",
       "      <th>deg_pH10</th>\n",
       "      <th>deg_Mg_50C</th>\n",
       "      <th>deg_50C</th>\n",
       "    </tr>\n",
       "  </thead>\n",
       "  <tbody>\n",
       "    <tr>\n",
       "      <th>0</th>\n",
       "      <td>id_00073f8be_0</td>\n",
       "      <td>0.590867</td>\n",
       "      <td>0.708907</td>\n",
       "      <td>1.012922</td>\n",
       "      <td>0.691743</td>\n",
       "      <td>0.706352</td>\n",
       "    </tr>\n",
       "    <tr>\n",
       "      <th>1</th>\n",
       "      <td>id_00073f8be_1</td>\n",
       "      <td>0.590872</td>\n",
       "      <td>0.708918</td>\n",
       "      <td>1.012926</td>\n",
       "      <td>0.691753</td>\n",
       "      <td>0.706350</td>\n",
       "    </tr>\n",
       "    <tr>\n",
       "      <th>2</th>\n",
       "      <td>id_00073f8be_2</td>\n",
       "      <td>0.580561</td>\n",
       "      <td>0.545989</td>\n",
       "      <td>0.719594</td>\n",
       "      <td>0.635667</td>\n",
       "      <td>0.646580</td>\n",
       "    </tr>\n",
       "    <tr>\n",
       "      <th>3</th>\n",
       "      <td>id_00073f8be_3</td>\n",
       "      <td>0.580561</td>\n",
       "      <td>0.545990</td>\n",
       "      <td>0.719594</td>\n",
       "      <td>0.635667</td>\n",
       "      <td>0.646580</td>\n",
       "    </tr>\n",
       "    <tr>\n",
       "      <th>4</th>\n",
       "      <td>id_00073f8be_4</td>\n",
       "      <td>0.580562</td>\n",
       "      <td>0.545990</td>\n",
       "      <td>0.719592</td>\n",
       "      <td>0.635668</td>\n",
       "      <td>0.646580</td>\n",
       "    </tr>\n",
       "    <tr>\n",
       "      <th>5</th>\n",
       "      <td>id_00073f8be_5</td>\n",
       "      <td>0.580662</td>\n",
       "      <td>0.545991</td>\n",
       "      <td>0.719536</td>\n",
       "      <td>0.635634</td>\n",
       "      <td>0.646515</td>\n",
       "    </tr>\n",
       "    <tr>\n",
       "      <th>6</th>\n",
       "      <td>id_00073f8be_6</td>\n",
       "      <td>0.253715</td>\n",
       "      <td>0.413818</td>\n",
       "      <td>0.426746</td>\n",
       "      <td>0.301995</td>\n",
       "      <td>0.325935</td>\n",
       "    </tr>\n",
       "    <tr>\n",
       "      <th>7</th>\n",
       "      <td>id_00073f8be_7</td>\n",
       "      <td>0.188355</td>\n",
       "      <td>0.317690</td>\n",
       "      <td>0.237717</td>\n",
       "      <td>0.229570</td>\n",
       "      <td>0.286701</td>\n",
       "    </tr>\n",
       "    <tr>\n",
       "      <th>8</th>\n",
       "      <td>id_00073f8be_8</td>\n",
       "      <td>0.241712</td>\n",
       "      <td>0.247662</td>\n",
       "      <td>0.130902</td>\n",
       "      <td>0.241720</td>\n",
       "      <td>0.266027</td>\n",
       "    </tr>\n",
       "    <tr>\n",
       "      <th>9</th>\n",
       "      <td>id_00073f8be_9</td>\n",
       "      <td>0.056408</td>\n",
       "      <td>0.252839</td>\n",
       "      <td>0.223548</td>\n",
       "      <td>0.186779</td>\n",
       "      <td>0.216804</td>\n",
       "    </tr>\n",
       "  </tbody>\n",
       "</table>\n",
       "</div>"
      ],
      "text/plain": [
       "        id_seqpos  reactivity  deg_Mg_pH10  deg_pH10  deg_Mg_50C   deg_50C\n",
       "0  id_00073f8be_0    0.590867     0.708907  1.012922    0.691743  0.706352\n",
       "1  id_00073f8be_1    0.590872     0.708918  1.012926    0.691753  0.706350\n",
       "2  id_00073f8be_2    0.580561     0.545989  0.719594    0.635667  0.646580\n",
       "3  id_00073f8be_3    0.580561     0.545990  0.719594    0.635667  0.646580\n",
       "4  id_00073f8be_4    0.580562     0.545990  0.719592    0.635668  0.646580\n",
       "5  id_00073f8be_5    0.580662     0.545991  0.719536    0.635634  0.646515\n",
       "6  id_00073f8be_6    0.253715     0.413818  0.426746    0.301995  0.325935\n",
       "7  id_00073f8be_7    0.188355     0.317690  0.237717    0.229570  0.286701\n",
       "8  id_00073f8be_8    0.241712     0.247662  0.130902    0.241720  0.266027\n",
       "9  id_00073f8be_9    0.056408     0.252839  0.223548    0.186779  0.216804"
      ]
     },
     "execution_count": 38,
     "metadata": {},
     "output_type": "execute_result"
    }
   ],
   "source": [
    "submission_df = seqn_eval_df_predictions[['id_seqpos','reactivity','deg_Mg_pH10','deg_pH10','deg_Mg_50C','deg_50C']]\n",
    "submission_df.head(10)"
   ]
  },
  {
   "cell_type": "markdown",
   "id": "1622a6ee",
   "metadata": {
    "papermill": {
     "duration": 0.022901,
     "end_time": "2023-01-26T17:32:09.467078",
     "exception": false,
     "start_time": "2023-01-26T17:32:09.444177",
     "status": "completed"
    },
    "tags": []
   },
   "source": [
    "### The overall RMSE looks okay, not too good, neither too bad, as expected, since there was poor correlation"
   ]
  },
  {
   "cell_type": "code",
   "execution_count": 39,
   "id": "9ded20dd",
   "metadata": {
    "execution": {
     "iopub.execute_input": "2023-01-26T17:32:09.515176Z",
     "iopub.status.busy": "2023-01-26T17:32:09.514838Z",
     "iopub.status.idle": "2023-01-26T17:32:09.520390Z",
     "shell.execute_reply": "2023-01-26T17:32:09.518839Z"
    },
    "papermill": {
     "duration": 0.032587,
     "end_time": "2023-01-26T17:32:09.522603",
     "exception": false,
     "start_time": "2023-01-26T17:32:09.490016",
     "status": "completed"
    },
    "tags": []
   },
   "outputs": [],
   "source": [
    "def calculate_rmse(actuals, label_name, predictions, prediction_loc):\n",
    "    mse = mean_squared_error(actuals[label_name], predictions[:,prediction_loc])\n",
    "    rmse = np.sqrt(mse)\n",
    "    return rmse"
   ]
  },
  {
   "cell_type": "code",
   "execution_count": 40,
   "id": "49b3ca67",
   "metadata": {
    "execution": {
     "iopub.execute_input": "2023-01-26T17:32:09.573460Z",
     "iopub.status.busy": "2023-01-26T17:32:09.572033Z",
     "iopub.status.idle": "2023-01-26T17:32:09.580893Z",
     "shell.execute_reply": "2023-01-26T17:32:09.579164Z"
    },
    "papermill": {
     "duration": 0.035837,
     "end_time": "2023-01-26T17:32:09.583139",
     "exception": false,
     "start_time": "2023-01-26T17:32:09.547302",
     "status": "completed"
    },
    "tags": []
   },
   "outputs": [
    {
     "name": "stdout",
     "output_type": "stream",
     "text": [
      "0.6900777684230793\n"
     ]
    }
   ],
   "source": [
    "print(calculate_rmse(seqn_train_df_sqrd_labels, 'reactivity', seqn_train_df_predictions, prediction_loc=0))"
   ]
  },
  {
   "cell_type": "code",
   "execution_count": 41,
   "id": "53e584d2",
   "metadata": {
    "execution": {
     "iopub.execute_input": "2023-01-26T17:32:09.632454Z",
     "iopub.status.busy": "2023-01-26T17:32:09.632131Z",
     "iopub.status.idle": "2023-01-26T17:32:09.637676Z",
     "shell.execute_reply": "2023-01-26T17:32:09.636217Z"
    },
    "papermill": {
     "duration": 0.03326,
     "end_time": "2023-01-26T17:32:09.640294",
     "exception": false,
     "start_time": "2023-01-26T17:32:09.607034",
     "status": "completed"
    },
    "tags": []
   },
   "outputs": [],
   "source": [
    "def calculate_mcrmse():\n",
    "    labels = ['reactivity', 'deg_Mg_pH10', 'deg_pH10', 'deg_Mg_50C', 'deg_50C']\n",
    "    rmse = 0\n",
    "    for i in range(len(labels)):\n",
    "        rmse = rmse + calculate_rmse(seqn_train_df_sqrd_labels, labels[i], seqn_train_df_predictions, prediction_loc=i)\n",
    "    mcrmse = rmse/len(labels)\n",
    "    return mcrmse"
   ]
  },
  {
   "cell_type": "markdown",
   "id": "820c03b3",
   "metadata": {
    "papermill": {
     "duration": 0.022851,
     "end_time": "2023-01-26T17:32:09.686488",
     "exception": false,
     "start_time": "2023-01-26T17:32:09.663637",
     "status": "completed"
    },
    "tags": []
   },
   "source": [
    "# MCRMSE"
   ]
  },
  {
   "cell_type": "code",
   "execution_count": 42,
   "id": "607ffec8",
   "metadata": {
    "execution": {
     "iopub.execute_input": "2023-01-26T17:32:09.735909Z",
     "iopub.status.busy": "2023-01-26T17:32:09.735383Z",
     "iopub.status.idle": "2023-01-26T17:32:09.745396Z",
     "shell.execute_reply": "2023-01-26T17:32:09.744076Z"
    },
    "papermill": {
     "duration": 0.036872,
     "end_time": "2023-01-26T17:32:09.747436",
     "exception": false,
     "start_time": "2023-01-26T17:32:09.710564",
     "status": "completed"
    },
    "tags": []
   },
   "outputs": [
    {
     "name": "stdout",
     "output_type": "stream",
     "text": [
      "0.9291558613552173\n"
     ]
    }
   ],
   "source": [
    "print(calculate_mcrmse())"
   ]
  },
  {
   "cell_type": "markdown",
   "id": "88f033a3",
   "metadata": {
    "papermill": {
     "duration": 0.023043,
     "end_time": "2023-01-26T17:32:09.794092",
     "exception": false,
     "start_time": "2023-01-26T17:32:09.771049",
     "status": "completed"
    },
    "tags": []
   },
   "source": [
    "### Performing cross-validation to see if the performance is consistent"
   ]
  },
  {
   "cell_type": "code",
   "execution_count": 43,
   "id": "fc118489",
   "metadata": {
    "execution": {
     "iopub.execute_input": "2023-01-26T17:32:09.841539Z",
     "iopub.status.busy": "2023-01-26T17:32:09.840949Z",
     "iopub.status.idle": "2023-01-26T17:32:14.326309Z",
     "shell.execute_reply": "2023-01-26T17:32:14.325492Z"
    },
    "papermill": {
     "duration": 4.511678,
     "end_time": "2023-01-26T17:32:14.328890",
     "exception": false,
     "start_time": "2023-01-26T17:32:09.817212",
     "status": "completed"
    },
    "tags": []
   },
   "outputs": [],
   "source": [
    "from sklearn.model_selection import cross_val_score\n",
    "\n",
    "scores = cross_val_score(poly_reg_model, seqn_train_df_prepared, seqn_train_df_sqrd_labels, scoring=\"neg_mean_squared_error\", cv=10)\n",
    "rmse_scores = np.sqrt(-scores)"
   ]
  },
  {
   "cell_type": "code",
   "execution_count": 44,
   "id": "46057687",
   "metadata": {
    "execution": {
     "iopub.execute_input": "2023-01-26T17:32:14.452893Z",
     "iopub.status.busy": "2023-01-26T17:32:14.452511Z",
     "iopub.status.idle": "2023-01-26T17:32:14.457104Z",
     "shell.execute_reply": "2023-01-26T17:32:14.456186Z"
    },
    "papermill": {
     "duration": 0.046223,
     "end_time": "2023-01-26T17:32:14.458842",
     "exception": false,
     "start_time": "2023-01-26T17:32:14.412619",
     "status": "completed"
    },
    "tags": []
   },
   "outputs": [],
   "source": [
    "def display_cv_scores(scores):\n",
    "    print(\"Scores : \", scores)\n",
    "    print(\"Mean : \", scores.mean())\n",
    "    print(\"Standard Deviation : \", scores.std())"
   ]
  },
  {
   "cell_type": "code",
   "execution_count": 45,
   "id": "a4c18e5b",
   "metadata": {
    "execution": {
     "iopub.execute_input": "2023-01-26T17:32:14.508570Z",
     "iopub.status.busy": "2023-01-26T17:32:14.508089Z",
     "iopub.status.idle": "2023-01-26T17:32:14.513894Z",
     "shell.execute_reply": "2023-01-26T17:32:14.512293Z"
    },
    "papermill": {
     "duration": 0.033529,
     "end_time": "2023-01-26T17:32:14.516707",
     "exception": false,
     "start_time": "2023-01-26T17:32:14.483178",
     "status": "completed"
    },
    "tags": []
   },
   "outputs": [
    {
     "name": "stdout",
     "output_type": "stream",
     "text": [
      "Scores :  [1.03520632 0.98442679 1.03308069 0.99301081 0.93330863 0.91431197\n",
      " 0.86361272 0.87562424 0.92575161 1.08762959]\n",
      "Mean :  0.9645963375735416\n",
      "Standard Deviation :  0.07010261153088622\n"
     ]
    }
   ],
   "source": [
    "display_cv_scores(rmse_scores)"
   ]
  },
  {
   "cell_type": "markdown",
   "id": "35d0249b",
   "metadata": {
    "papermill": {
     "duration": 0.022587,
     "end_time": "2023-01-26T17:32:14.563145",
     "exception": false,
     "start_time": "2023-01-26T17:32:14.540558",
     "status": "completed"
    },
    "tags": []
   },
   "source": [
    "## Trying a decision tree regression model"
   ]
  },
  {
   "cell_type": "code",
   "execution_count": 46,
   "id": "da535919",
   "metadata": {
    "execution": {
     "iopub.execute_input": "2023-01-26T17:32:14.611191Z",
     "iopub.status.busy": "2023-01-26T17:32:14.610860Z",
     "iopub.status.idle": "2023-01-26T17:32:21.766996Z",
     "shell.execute_reply": "2023-01-26T17:32:21.765842Z"
    },
    "papermill": {
     "duration": 7.182146,
     "end_time": "2023-01-26T17:32:21.768909",
     "exception": false,
     "start_time": "2023-01-26T17:32:14.586763",
     "status": "completed"
    },
    "tags": []
   },
   "outputs": [
    {
     "data": {
      "text/plain": [
       "DecisionTreeRegressor()"
      ]
     },
     "execution_count": 46,
     "metadata": {},
     "output_type": "execute_result"
    }
   ],
   "source": [
    "from sklearn.tree import DecisionTreeRegressor\n",
    "\n",
    "tree_reg_model = DecisionTreeRegressor()\n",
    "tree_reg_model.fit(seqn_train_df_prepared, seqn_train_df_sqrd_labels)"
   ]
  },
  {
   "cell_type": "code",
   "execution_count": 47,
   "id": "d80c8408",
   "metadata": {
    "execution": {
     "iopub.execute_input": "2023-01-26T17:32:21.825014Z",
     "iopub.status.busy": "2023-01-26T17:32:21.824394Z",
     "iopub.status.idle": "2023-01-26T17:32:22.010053Z",
     "shell.execute_reply": "2023-01-26T17:32:22.008144Z"
    },
    "papermill": {
     "duration": 0.21756,
     "end_time": "2023-01-26T17:32:22.013986",
     "exception": false,
     "start_time": "2023-01-26T17:32:21.796426",
     "status": "completed"
    },
    "tags": []
   },
   "outputs": [
    {
     "name": "stdout",
     "output_type": "stream",
     "text": [
      "0.5247632339543352\n"
     ]
    }
   ],
   "source": [
    "seqn_train_df_predictions = tree_reg_model.predict(seqn_train_df_prepared)\n",
    "mse = mean_squared_error(seqn_train_df_sqrd_labels, seqn_train_df_predictions)\n",
    "rmse = np.sqrt(mse)\n",
    "print(rmse)"
   ]
  },
  {
   "cell_type": "code",
   "execution_count": 48,
   "id": "66457110",
   "metadata": {
    "execution": {
     "iopub.execute_input": "2023-01-26T17:32:22.065435Z",
     "iopub.status.busy": "2023-01-26T17:32:22.065046Z",
     "iopub.status.idle": "2023-01-26T17:32:22.083932Z",
     "shell.execute_reply": "2023-01-26T17:32:22.081718Z"
    },
    "papermill": {
     "duration": 0.047834,
     "end_time": "2023-01-26T17:32:22.086495",
     "exception": false,
     "start_time": "2023-01-26T17:32:22.038661",
     "status": "completed"
    },
    "tags": []
   },
   "outputs": [
    {
     "name": "stdout",
     "output_type": "stream",
     "text": [
      "1.139748939636142\n"
     ]
    }
   ],
   "source": [
    "seqn_test_df_predictions = tree_reg_model.predict(seqn_test_df_prepared)\n",
    "mse = mean_squared_error(seqn_test_df_sqrd_labels, seqn_test_df_predictions)\n",
    "rmse = np.sqrt(mse)\n",
    "print(rmse)"
   ]
  },
  {
   "cell_type": "code",
   "execution_count": 49,
   "id": "b7c037ea",
   "metadata": {
    "execution": {
     "iopub.execute_input": "2023-01-26T17:32:22.138818Z",
     "iopub.status.busy": "2023-01-26T17:32:22.138455Z",
     "iopub.status.idle": "2023-01-26T17:32:22.151900Z",
     "shell.execute_reply": "2023-01-26T17:32:22.149625Z"
    },
    "papermill": {
     "duration": 0.04358,
     "end_time": "2023-01-26T17:32:22.155395",
     "exception": false,
     "start_time": "2023-01-26T17:32:22.111815",
     "status": "completed"
    },
    "tags": []
   },
   "outputs": [
    {
     "name": "stdout",
     "output_type": "stream",
     "text": [
      "0.5043958657654694\n"
     ]
    }
   ],
   "source": [
    "print(calculate_mcrmse())"
   ]
  }
 ],
 "metadata": {
  "kernelspec": {
   "display_name": "Python 3",
   "language": "python",
   "name": "python3"
  },
  "language_info": {
   "codemirror_mode": {
    "name": "ipython",
    "version": 3
   },
   "file_extension": ".py",
   "mimetype": "text/x-python",
   "name": "python",
   "nbconvert_exporter": "python",
   "pygments_lexer": "ipython3",
   "version": "3.7.12"
  },
  "papermill": {
   "default_parameters": {},
   "duration": 206.846104,
   "end_time": "2023-01-26T17:32:23.407399",
   "environment_variables": {},
   "exception": null,
   "input_path": "__notebook__.ipynb",
   "output_path": "__notebook__.ipynb",
   "parameters": {},
   "start_time": "2023-01-26T17:28:56.561295",
   "version": "2.3.4"
  }
 },
 "nbformat": 4,
 "nbformat_minor": 5
}
